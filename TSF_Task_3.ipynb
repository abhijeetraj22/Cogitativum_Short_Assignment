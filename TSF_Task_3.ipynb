{
  "nbformat": 4,
  "nbformat_minor": 0,
  "metadata": {
    "colab": {
      "name": "TSF_Task-3.ipynb",
      "provenance": [],
      "toc_visible": true,
      "mount_file_id": "1gOHKXaTCMW7DCG6mDLtGXO0UATa1hUcw",
      "authorship_tag": "ABX9TyMV8hRHeK3MlUExO7+o+UeY",
      "include_colab_link": true
    },
    "kernelspec": {
      "name": "python3",
      "display_name": "Python 3"
    }
  },
  "cells": [
    {
      "cell_type": "markdown",
      "metadata": {
        "id": "view-in-github",
        "colab_type": "text"
      },
      "source": [
        "<a href=\"https://colab.research.google.com/github/abhijeetraj22/TSF-GRIP_Tasks/blob/main/TSF_Task_3.ipynb\" target=\"_parent\"><img src=\"https://colab.research.google.com/assets/colab-badge.svg\" alt=\"Open In Colab\"/></a>"
      ]
    },
    {
      "cell_type": "markdown",
      "metadata": {
        "id": "9zBe17GPLJ7W"
      },
      "source": [
        "#GRIP The Sparks Foundation(TSF)\r\n",
        "\r\n",
        "##Task-3 Exploratory Data Analysis - Retail\r\n",
        "\r\n",
        "#####In this task, As a business manager, I tried to find out the weak areas where you can work to make more profit. \r\n",
        "\r\n",
        "\r\n",
        "##Steps -\r\n",
        " - Step 1 - Importing the Library\r\n",
        " - Step 2 - Importing the Dataset\r\n",
        " - Step 3 - Visualizing the Dataset\r\n",
        "\r\n",
        "####Created by - Abhijeet Raj Modanwal\r\n"
      ]
    },
    {
      "cell_type": "markdown",
      "metadata": {
        "id": "VzBLdaohPEhS"
      },
      "source": [
        "##STEP 1 - Importing the Library\r\n",
        "\r\n",
        "In this step, we will import the Libraries.\r\n"
      ]
    },
    {
      "cell_type": "code",
      "metadata": {
        "id": "WqJezwtIKqQN"
      },
      "source": [
        "# Importing the libraries\r\n",
        "import numpy as np\r\n",
        "import matplotlib.pyplot as plt\r\n",
        "%matplotlib inline\r\n",
        "import pandas as pd\r\n"
      ],
      "execution_count": null,
      "outputs": []
    },
    {
      "cell_type": "markdown",
      "metadata": {
        "id": "uRwSfsPuPmXN"
      },
      "source": [
        "\r\n",
        "###STEP 2 - Importing the Dataset"
      ]
    },
    {
      "cell_type": "code",
      "metadata": {
        "id": "yrL-N8oEP7Eo"
      },
      "source": [
        "ss_df=pd.read_csv('/content/drive/MyDrive/SampleSuperstore.csv')\r\n"
      ],
      "execution_count": null,
      "outputs": []
    },
    {
      "cell_type": "code",
      "metadata": {
        "id": "F7DeVDcHQeFr"
      },
      "source": [
        "#first five rows of dataset\r\n",
        "ss_df.head()"
      ],
      "execution_count": null,
      "outputs": []
    },
    {
      "cell_type": "code",
      "metadata": {
        "id": "BUDKWA2XQmtD"
      },
      "source": [
        "#last five rows of dataset\r\n",
        "ss_df.tail()"
      ],
      "execution_count": null,
      "outputs": []
    },
    {
      "cell_type": "code",
      "metadata": {
        "id": "ztzzUcrNQuQe"
      },
      "source": [
        "#shape of dataset\r\n",
        "ss_df.shape"
      ],
      "execution_count": null,
      "outputs": []
    },
    {
      "cell_type": "code",
      "metadata": {
        "id": "MxjtU_YiQzY7"
      },
      "source": [
        "#columns names of the dataset \r\n",
        "ss_df.columns"
      ],
      "execution_count": null,
      "outputs": []
    },
    {
      "cell_type": "code",
      "metadata": {
        "id": "y5_HHIP9Q_BQ"
      },
      "source": [
        "#info of the dataset \r\n",
        "ss_df.info()"
      ],
      "execution_count": null,
      "outputs": []
    },
    {
      "cell_type": "code",
      "metadata": {
        "id": "vE2QLG2pRF_7"
      },
      "source": [
        "#summary of the data\r\n",
        "ss_df.describe()"
      ],
      "execution_count": null,
      "outputs": []
    },
    {
      "cell_type": "code",
      "metadata": {
        "id": "2DY1auKdRMjk"
      },
      "source": [
        "#checking null values\r\n",
        "ss_df.isnull().sum()"
      ],
      "execution_count": null,
      "outputs": []
    },
    {
      "cell_type": "markdown",
      "metadata": {
        "id": "dVFFLuY9R_ev"
      },
      "source": [
        "###STEP 3 - Visualizing the Dataset"
      ]
    },
    {
      "cell_type": "code",
      "metadata": {
        "id": "LtY-Yhd4R8nr"
      },
      "source": [
        "plt.figure(figsize= (10,16))\r\n",
        "df.groupby('Category')['Profit', 'Sales'].agg(['sum']).plot.bar()\r\n",
        "plt.ylabel('Profit')\r\n",
        "plt.show()"
      ],
      "execution_count": null,
      "outputs": []
    },
    {
      "cell_type": "code",
      "metadata": {
        "id": "Svt7NUH9Hu8W"
      },
      "source": [
        "plt.figure(figsize=(10, 16))\r\n",
        "df.groupby('Sub-Category')['Profit','Sales'].agg(['sum']).plot.bar()\r\n",
        "plt.ylabel('Profit')\r\n",
        "plt.show()"
      ],
      "execution_count": null,
      "outputs": []
    },
    {
      "cell_type": "code",
      "metadata": {
        "id": "d8YnfWieH0hp"
      },
      "source": [
        "import seaborn as sns\r\n",
        "plt.figure(figsize=(5,4))\r\n",
        "sns.heatmap(df.corr(), annot=True)"
      ],
      "execution_count": null,
      "outputs": []
    },
    {
      "cell_type": "code",
      "metadata": {
        "id": "zDMZL9cGH3kJ"
      },
      "source": [
        "plt.figure(figsize=(8,7))\r\n",
        "sns.countplot(df['Sub-Category'])\r\n",
        "plt.xticks(rotation=45)"
      ],
      "execution_count": null,
      "outputs": []
    },
    {
      "cell_type": "code",
      "metadata": {
        "id": "zlSRmY_bH8so"
      },
      "source": [
        "plt.figure(figsize=(8,7))\r\n",
        "sns.lineplot(df['Discount'], df['Profit'], data=df)"
      ],
      "execution_count": null,
      "outputs": []
    },
    {
      "cell_type": "code",
      "metadata": {
        "id": "H-qUVH6JIACu"
      },
      "source": [
        "plt.figure(figsize=(8,7))\r\n",
        "sns.lineplot(df['Discount'], df['Quantity'], data=df)"
      ],
      "execution_count": null,
      "outputs": []
    },
    {
      "cell_type": "code",
      "metadata": {
        "id": "8YK1_bWjIG9J"
      },
      "source": [
        "plt.figure(figsize=(8,7))\r\n",
        "sns.lineplot(df['Ship Mode'], df['Profit'], data=df)"
      ],
      "execution_count": null,
      "outputs": []
    },
    {
      "cell_type": "code",
      "metadata": {
        "id": "6A9yV2H6IKA7"
      },
      "source": [
        "df.groupby('State')['Profit','Sales'].agg(['sum']).plot.bar()\r\n",
        "plt.ylabel('Profit')\r\n",
        "plt.show()"
      ],
      "execution_count": null,
      "outputs": []
    },
    {
      "cell_type": "code",
      "metadata": {
        "id": "Hf97VwAjIMPM"
      },
      "source": [
        "plt.figure(figsize=(10,16))\r\n",
        "df.groupby('Ship Mode')['Profit','Sales'].agg(['sum']).plot.bar()\r\n",
        "plt.ylabel('Sale')\r\n",
        "plt.show()"
      ],
      "execution_count": null,
      "outputs": []
    }
  ]
}