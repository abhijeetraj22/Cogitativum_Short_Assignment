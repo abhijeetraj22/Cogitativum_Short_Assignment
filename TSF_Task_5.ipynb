{
  "nbformat": 4,
  "nbformat_minor": 0,
  "metadata": {
    "colab": {
      "name": "TSF_Task-5.ipynb",
      "provenance": [],
      "mount_file_id": "1gOHKXaTCMW7DCG6mDLtGXO0UATa1hUcw",
      "authorship_tag": "ABX9TyNC0OC3aZ+U3W6Wt4G1K81R",
      "include_colab_link": true
    },
    "kernelspec": {
      "name": "python3",
      "display_name": "Python 3"
    }
  },
  "cells": [
    {
      "cell_type": "markdown",
      "metadata": {
        "id": "view-in-github",
        "colab_type": "text"
      },
      "source": [
        "<a href=\"https://colab.research.google.com/github/abhijeetraj22/TSF-GRIP_Tasks/blob/main/TSF_Task_5.ipynb\" target=\"_parent\"><img src=\"https://colab.research.google.com/assets/colab-badge.svg\" alt=\"Open In Colab\"/></a>"
      ]
    },
    {
      "cell_type": "markdown",
      "metadata": {
        "id": "9zBe17GPLJ7W"
      },
      "source": [
        "#GRIP The Sparks Foundation(TSF)\r\n",
        "\r\n",
        "##Task - 5 Exploratory Data Analysis - Sports\r\n",
        "\r\n",
        "#####In this task, As a sports analysts, I tried to find out the most successful teams, players and factors contributing win or loss of a team.\r\n",
        "\r\n",
        "#####Suggest teams or players a company should endorse for its products. \r\n",
        "\r\n",
        "\r\n",
        "##Steps -\r\n",
        " - Step 1 - Importing the Library\r\n",
        " - Step 2 - Importing the Dataset\r\n",
        " - Step 3 - Data Exploration\r\n",
        " - Step 4 - Visualizing the \r\n",
        " - Conclusion\r\n",
        "\r\n",
        "####Created by - Abhijeet Raj Modanwal\r\n"
      ]
    },
    {
      "cell_type": "markdown",
      "metadata": {
        "id": "VzBLdaohPEhS"
      },
      "source": [
        "##STEP 1 - Importing the Library\r\n",
        "\r\n",
        "In this step, we will import the Libraries.\r\n"
      ]
    },
    {
      "cell_type": "code",
      "metadata": {
        "id": "WqJezwtIKqQN"
      },
      "source": [
        "# Importing the libraries\r\n",
        "import numpy as np\r\n",
        "import matplotlib.pyplot as plt\r\n",
        "%matplotlib inline\r\n",
        "import pandas as pd\r\n"
      ],
      "execution_count": null,
      "outputs": []
    },
    {
      "cell_type": "markdown",
      "metadata": {
        "id": "uRwSfsPuPmXN"
      },
      "source": [
        "\r\n",
        "##STEP 2 - Importing the Dataset"
      ]
    },
    {
      "cell_type": "code",
      "metadata": {
        "id": "yrL-N8oEP7Eo"
      },
      "source": [
        "mt_df=pd.read_csv('matches.csv')"
      ],
      "execution_count": null,
      "outputs": []
    },
    {
      "cell_type": "code",
      "metadata": {
        "id": "F7DeVDcHQeFr"
      },
      "source": [
        "#first five rows of dataset\r\n",
        "mt_df.head()"
      ],
      "execution_count": null,
      "outputs": []
    },
    {
      "cell_type": "code",
      "metadata": {
        "id": "BUDKWA2XQmtD"
      },
      "source": [
        "#last five rows of dataset\r\n",
        "mt_df.tail()"
      ],
      "execution_count": null,
      "outputs": []
    },
    {
      "cell_type": "markdown",
      "metadata": {
        "id": "_PtvjdkRbZsU"
      },
      "source": [
        "##STEP 3 - Data Exploration"
      ]
    },
    {
      "cell_type": "code",
      "metadata": {
        "id": "ztzzUcrNQuQe"
      },
      "source": [
        "#shape of dataset\r\n",
        "mt_df.shape"
      ],
      "execution_count": null,
      "outputs": []
    },
    {
      "cell_type": "code",
      "metadata": {
        "id": "MxjtU_YiQzY7"
      },
      "source": [
        "#columns names of the dataset \r\n",
        "mt_df.columns"
      ],
      "execution_count": null,
      "outputs": []
    },
    {
      "cell_type": "code",
      "metadata": {
        "id": "y5_HHIP9Q_BQ"
      },
      "source": [
        "#info of the dataset \r\n",
        "mt_df.info()"
      ],
      "execution_count": null,
      "outputs": []
    },
    {
      "cell_type": "code",
      "metadata": {
        "id": "vE2QLG2pRF_7"
      },
      "source": [
        "#summary of the data\r\n",
        "mt_df.describe()"
      ],
      "execution_count": null,
      "outputs": []
    },
    {
      "cell_type": "code",
      "metadata": {
        "id": "2DY1auKdRMjk"
      },
      "source": [
        "#checking null values\r\n",
        "mt_df.isnull().sum()"
      ],
      "execution_count": null,
      "outputs": []
    },
    {
      "cell_type": "code",
      "metadata": {
        "id": "pcZkcorNZueO"
      },
      "source": [
        "mt_df.corr()"
      ],
      "execution_count": null,
      "outputs": []
    },
    {
      "cell_type": "code",
      "metadata": {
        "id": "aXkCSeiEeEeJ"
      },
      "source": [
        "print(\"Number of seasons played:\", len(mt_df['season'].unique()))"
      ],
      "execution_count": null,
      "outputs": []
    },
    {
      "cell_type": "code",
      "metadata": {
        "id": "4Z8RV-OKeHKH"
      },
      "source": [
        "print(\"No. of Matches Played\")\r\n",
        "mt_df['season'].value_counts()"
      ],
      "execution_count": null,
      "outputs": []
    },
    {
      "cell_type": "markdown",
      "metadata": {
        "id": "dVFFLuY9R_ev"
      },
      "source": [
        "##STEP 4 - Visualizing the Dataset"
      ]
    },
    {
      "cell_type": "code",
      "metadata": {
        "id": "LtY-Yhd4R8nr"
      },
      "source": [
        "sns.countplot(x='season', data=df)"
      ],
      "execution_count": null,
      "outputs": []
    },
    {
      "cell_type": "code",
      "metadata": {
        "id": "Svt7NUH9Hu8W"
      },
      "source": [
        "sns.countplot(x='winner', data=df)\r\n",
        "plt.title('Match Winning Team')\r\n",
        "plt.xticks(rotation=90)"
      ],
      "execution_count": null,
      "outputs": []
    },
    {
      "cell_type": "code",
      "metadata": {
        "id": "d8YnfWieH0hp"
      },
      "source": [
        "plt.subplots(figsize=(20,10))\r\n",
        "sns.countplot(x='venue',data=df,order=df['venue'].value_counts().index)\r\n",
        "plt.title('Indian Premier League Venue',fontsize=25)\r\n",
        "plt.xlabel('Stadium',fontsize=15)\r\n",
        "plt.ylabel('Matches',fontsize=15)\r\n",
        "plt.xticks(rotation=-90,fontsize=15)"
      ],
      "execution_count": null,
      "outputs": []
    },
    {
      "cell_type": "code",
      "metadata": {
        "id": "zDMZL9cGH3kJ"
      },
      "source": [
        "plt.figure(figsize=(20,10))\r\n",
        "\r\n",
        "sns.barplot(x=df.player_of_match.value_counts()[:10].index,y=df.player_of_match.value_counts()[:10])\r\n",
        "plt.title('Top player of the match winners',fontsize=35)\r\n",
        "plt.xlabel('Player',fontsize=25)\r\n",
        "plt.ylabel('Match',fontsize=25)"
      ],
      "execution_count": null,
      "outputs": []
    },
    {
      "cell_type": "code",
      "metadata": {
        "id": "zlSRmY_bH8so"
      },
      "source": [
        "plt.subplots(figsize=(20,10))\r\n",
        "\r\n",
        "sns.countplot('winner',data=df)\r\n",
        "plt.title('Champion Teams',fontsize=35)\r\n",
        "plt.xlabel('Teams',fontsize=15)\r\n",
        "plt.ylabel('Season won',fontsize=15)\r\n",
        "plt.xticks(rotation=-90,fontsize=15)\r\n",
        "plt.show()"
      ],
      "execution_count": null,
      "outputs": []
    },
    {
      "cell_type": "markdown",
      "metadata": {
        "id": "0gOZ9o7SaL5G"
      },
      "source": [
        "\r\n",
        "##***Conclusion***\r\n",
        "\r\n",
        "\r\n",
        "- Mumbai Indians plays the highest amount of matches and has won more seasons than the other teams.\r\n",
        "- Chennai Super Kings ranked the second highest in winning matches followed by Kolkata Night Riders.\r\n",
        "- Eden Garden hosts the highest number of matches followed by M Chinnaswamy Stadium and Wankhede Stadium.\r\n",
        "- Chris Gayle won the most MVP awards in Indian Premier League.\r\n"
      ]
    }
  ]
}