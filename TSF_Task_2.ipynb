{
  "nbformat": 4,
  "nbformat_minor": 0,
  "metadata": {
    "colab": {
      "name": "TSF_Task-2.ipynb",
      "provenance": [],
      "authorship_tag": "ABX9TyNRlKEAmA9ORf4yHR3zMq46",
      "include_colab_link": true
    },
    "kernelspec": {
      "name": "python3",
      "display_name": "Python 3"
    }
  },
  "cells": [
    {
      "cell_type": "markdown",
      "metadata": {
        "id": "view-in-github",
        "colab_type": "text"
      },
      "source": [
        "<a href=\"https://colab.research.google.com/github/abhijeetraj22/TSF-GRIP_Tasks/blob/main/TSF_Task_2.ipynb\" target=\"_parent\"><img src=\"https://colab.research.google.com/assets/colab-badge.svg\" alt=\"Open In Colab\"/></a>"
      ]
    },
    {
      "cell_type": "markdown",
      "metadata": {
        "id": "9zBe17GPLJ7W"
      },
      "source": [
        "#GRIP The Sparks Foundation(TSF)\r\n",
        "\r\n",
        "##Task-2 Prediction using Unsupervised ML\r\n",
        "\r\n",
        "#####In this task, I tried to predict optimum number of clusters using K-means clustering and represent it visually by using \"Iris\" dataset. \r\n",
        "\r\n",
        "\r\n",
        "##Steps -\r\n",
        " - Step 1 - Importing the Library\r\n",
        " - Step 2 - Importing the Dataset\r\n",
        " - Step 3 - Data Preprocessing\r\n",
        " - Step 4 - Visualizing the Clusters\r\n",
        "\r\n",
        "####Created by - Abhijeet Raj Modanwal\r\n"
      ]
    },
    {
      "cell_type": "markdown",
      "metadata": {
        "id": "VzBLdaohPEhS"
      },
      "source": [
        "##STEP 1 - Importing the Library\r\n",
        "\r\n",
        "In this step, we will import the Libraries.\r\n"
      ]
    },
    {
      "cell_type": "code",
      "metadata": {
        "id": "WqJezwtIKqQN"
      },
      "source": [
        "# Importing the libraries\r\n",
        "import numpy as np\r\n",
        "import matplotlib.pyplot as plt\r\n",
        "%matplotlib inline\r\n",
        "import pandas as pd\r\n"
      ],
      "execution_count": null,
      "outputs": []
    },
    {
      "cell_type": "markdown",
      "metadata": {
        "id": "uRwSfsPuPmXN"
      },
      "source": [
        "\r\n",
        "###STEP 2 - Importing the Dataset\r\n",
        "\r\n",
        "In this step, we download the data through sklearn datasets.\r\n"
      ]
    },
    {
      "cell_type": "code",
      "metadata": {
        "id": "yrL-N8oEP7Eo"
      },
      "source": [
        "from sklearn import datasets\r\n",
        "\r\n",
        "# Load the iris dataset\r\n",
        "iris = datasets.load_iris()\r\n",
        "iris_df = pd.DataFrame(iris.data, columns = iris.feature_names)\r\n",
        "iris_df.head() # See the first 5 rows\r\n",
        "\r\n"
      ],
      "execution_count": null,
      "outputs": []
    },
    {
      "cell_type": "code",
      "metadata": {
        "id": "F7DeVDcHQeFr"
      },
      "source": [
        "#first five rows of dataset\r\n",
        "iris_df.head()"
      ],
      "execution_count": null,
      "outputs": []
    },
    {
      "cell_type": "code",
      "metadata": {
        "id": "BUDKWA2XQmtD"
      },
      "source": [
        "#last five rows of dataset\r\n",
        "iris_df.tail()"
      ],
      "execution_count": null,
      "outputs": []
    },
    {
      "cell_type": "code",
      "metadata": {
        "id": "ztzzUcrNQuQe"
      },
      "source": [
        "#shape of dataset\r\n",
        "iris_df.shape"
      ],
      "execution_count": null,
      "outputs": []
    },
    {
      "cell_type": "code",
      "metadata": {
        "id": "MxjtU_YiQzY7"
      },
      "source": [
        "#columns names of the dataset \r\n",
        "iris_df.columns"
      ],
      "execution_count": null,
      "outputs": []
    },
    {
      "cell_type": "code",
      "metadata": {
        "id": "y5_HHIP9Q_BQ"
      },
      "source": [
        "#info of the dataset \r\n",
        "iris_df.info()"
      ],
      "execution_count": null,
      "outputs": []
    },
    {
      "cell_type": "code",
      "metadata": {
        "id": "vE2QLG2pRF_7"
      },
      "source": [
        "#summary of the data\r\n",
        "iris_df.describe()"
      ],
      "execution_count": null,
      "outputs": []
    },
    {
      "cell_type": "code",
      "metadata": {
        "id": "2DY1auKdRMjk"
      },
      "source": [
        "#checking null values\r\n",
        "iris_df.isnull().sum()"
      ],
      "execution_count": null,
      "outputs": []
    },
    {
      "cell_type": "markdown",
      "metadata": {
        "id": "gHzrfdWtNNlJ"
      },
      "source": [
        "###STEP - 3  Preparing the data\r\n"
      ]
    },
    {
      "cell_type": "code",
      "metadata": {
        "id": "-wq2cYPDNTLn"
      },
      "source": [
        "# Finding the optimum number of clusters for k-means classification\r\n",
        "\r\n",
        "x = iris_df.iloc[:, [0, 1, 2, 3]].values\r\n",
        "\r\n",
        "from sklearn.cluster import KMeans\r\n",
        "wcss = []\r\n",
        "\r\n",
        "for i in range(1, 11):\r\n",
        "    kmeans = KMeans(n_clusters = i, init = 'k-means++', \r\n",
        "                    max_iter = 300, n_init = 10, random_state = 0)\r\n",
        "    kmeans.fit(x)\r\n",
        "    wcss.append(kmeans.inertia_)\r\n",
        "    \r\n",
        "# Plotting the results onto a line graph, \r\n",
        "# `allowing us to observe 'The elbow'\r\n",
        "plt.plot(range(1, 11), wcss)\r\n",
        "plt.title('The elbow method')\r\n",
        "plt.xlabel('Number of clusters')\r\n",
        "plt.ylabel('WCSS') # Within cluster sum of squares\r\n",
        "plt.show()\r\n"
      ],
      "execution_count": null,
      "outputs": []
    },
    {
      "cell_type": "markdown",
      "metadata": {
        "id": "aHN5TsN4NZCS"
      },
      "source": [
        "\r\n",
        "***You can clearly see why it is called 'The Elbow method' from the above graph, the optimum clusters is where the elbow occurs. This is when the within cluster sum of squares (WCSS) doesn't decrease significantly with every iteration.***\r\n",
        "\r\n",
        "From this we choose the number of clusters as ** '3**'.\r\n",
        "\r\n"
      ]
    },
    {
      "cell_type": "markdown",
      "metadata": {
        "id": "dVFFLuY9R_ev"
      },
      "source": [
        "###STEP 4 - Visualizing the Clusters"
      ]
    },
    {
      "cell_type": "code",
      "metadata": {
        "id": "IJXDwyzwNeV9"
      },
      "source": [
        "# Applying kmeans to the dataset / Creating the kmeans classifier\r\n",
        "kmeans = KMeans(n_clusters = 3, init = 'k-means++',\r\n",
        "                max_iter = 300, n_init = 10, random_state = 0)\r\n",
        "y_kmeans = kmeans.fit_predict(x)\r\n"
      ],
      "execution_count": null,
      "outputs": []
    },
    {
      "cell_type": "code",
      "metadata": {
        "id": "LtY-Yhd4R8nr"
      },
      "source": [
        "\r\n",
        "# Visualising the clusters - On the first two columns\r\n",
        "plt.scatter(x[y_kmeans == 0, 0], x[y_kmeans == 0, 1], \r\n",
        "            s = 100, c = 'red', label = 'Iris-setosa')\r\n",
        "plt.scatter(x[y_kmeans == 1, 0], x[y_kmeans == 1, 1], \r\n",
        "            s = 100, c = 'blue', label = 'Iris-versicolour')\r\n",
        "plt.scatter(x[y_kmeans == 2, 0], x[y_kmeans == 2, 1],\r\n",
        "            s = 100, c = 'green', label = 'Iris-virginica')\r\n",
        "\r\n",
        "# Plotting the centroids of the clusters\r\n",
        "plt.scatter(kmeans.cluster_centers_[:, 0], kmeans.cluster_centers_[:,1], \r\n",
        "            s = 100, c = 'yellow', label = 'Centroids')\r\n",
        "\r\n",
        "plt.legend()"
      ],
      "execution_count": null,
      "outputs": []
    }
  ]
}