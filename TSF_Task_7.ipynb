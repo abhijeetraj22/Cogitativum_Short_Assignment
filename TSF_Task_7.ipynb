{
  "nbformat": 4,
  "nbformat_minor": 0,
  "metadata": {
    "colab": {
      "name": "TSF_Task-7.ipynb",
      "provenance": [],
      "toc_visible": true,
      "mount_file_id": "https://github.com/abhijeetraj22/TSF-GRIP_Tasks/blob/main/TSF_Task_7.ipynb",
      "authorship_tag": "ABX9TyNEPFtn4D9FZ96x/dYJv/bi",
      "include_colab_link": true
    },
    "kernelspec": {
      "name": "python3",
      "display_name": "Python 3"
    }
  },
  "cells": [
    {
      "cell_type": "markdown",
      "metadata": {
        "id": "view-in-github",
        "colab_type": "text"
      },
      "source": [
        "<a href=\"https://colab.research.google.com/github/abhijeetraj22/TSF-GRIP_Tasks/blob/main/TSF_Task_7.ipynb\" target=\"_parent\"><img src=\"https://colab.research.google.com/assets/colab-badge.svg\" alt=\"Open In Colab\"/></a>"
      ]
    },
    {
      "cell_type": "markdown",
      "metadata": {
        "id": "9zBe17GPLJ7W"
      },
      "source": [
        "#GRIP The Sparks Foundation(TSF)\n",
        "\n",
        "##Task - 7 Stock Market Prediction using Numerical and Textual Analysis\n",
        "\n",
        "#####In this task,\n",
        "- Create a hybrid model for stock price/performance prediction using numerical analysis of historical stock prices, and sentimental analysis of news headlines \n",
        "- Stock to analyze and predict - SENSEX (S&P BSE SENSEX)\n",
        "\n",
        "\n",
        "##Steps -\n",
        " - Step 1 - Importing the Library\n",
        " - Step 2 - Importing the Dataset\n",
        " - Step 3 - Data Exploration\n",
        " - Step 4 - Define the Decision Tree Algorithm\n",
        " - Step 5 - Visualizing the Decision Tree\n",
        "\n",
        "####Created by - Abhijeet Raj Modanwal\n"
      ]
    },
    {
      "cell_type": "code",
      "metadata": {
        "colab": {
          "base_uri": "https://localhost:8080/"
        },
        "id": "hN5GVKX-0V3M",
        "outputId": "e5f9b4fd-3d8a-4c1f-c8c8-c43d3bea1260"
      },
      "source": [
        "!pip install yfinance --upgrade --no-cache-dir\n",
        "!pip install pmdarima"
      ],
      "execution_count": 1,
      "outputs": [
        {
          "output_type": "stream",
          "text": [
            "Collecting yfinance\n",
            "  Downloading https://files.pythonhosted.org/packages/7a/e8/b9d7104d3a4bf39924799067592d9e59119fcfc900a425a12e80a3123ec8/yfinance-0.1.55.tar.gz\n",
            "Requirement already satisfied, skipping upgrade: pandas>=0.24 in /usr/local/lib/python3.7/dist-packages (from yfinance) (1.1.5)\n",
            "Requirement already satisfied, skipping upgrade: numpy>=1.15 in /usr/local/lib/python3.7/dist-packages (from yfinance) (1.19.5)\n",
            "Requirement already satisfied, skipping upgrade: requests>=2.20 in /usr/local/lib/python3.7/dist-packages (from yfinance) (2.23.0)\n",
            "Requirement already satisfied, skipping upgrade: multitasking>=0.0.7 in /usr/local/lib/python3.7/dist-packages (from yfinance) (0.0.9)\n",
            "Collecting lxml>=4.5.1\n",
            "\u001b[?25l  Downloading https://files.pythonhosted.org/packages/d2/88/b25778f17e5320c1c58f8c5060fb5b037288e162bd7554c30799e9ea90db/lxml-4.6.2-cp37-cp37m-manylinux1_x86_64.whl (5.5MB)\n",
            "\u001b[K     |████████████████████████████████| 5.5MB 6.7MB/s \n",
            "\u001b[?25hRequirement already satisfied, skipping upgrade: pytz>=2017.2 in /usr/local/lib/python3.7/dist-packages (from pandas>=0.24->yfinance) (2018.9)\n",
            "Requirement already satisfied, skipping upgrade: python-dateutil>=2.7.3 in /usr/local/lib/python3.7/dist-packages (from pandas>=0.24->yfinance) (2.8.1)\n",
            "Requirement already satisfied, skipping upgrade: urllib3!=1.25.0,!=1.25.1,<1.26,>=1.21.1 in /usr/local/lib/python3.7/dist-packages (from requests>=2.20->yfinance) (1.24.3)\n",
            "Requirement already satisfied, skipping upgrade: idna<3,>=2.5 in /usr/local/lib/python3.7/dist-packages (from requests>=2.20->yfinance) (2.10)\n",
            "Requirement already satisfied, skipping upgrade: certifi>=2017.4.17 in /usr/local/lib/python3.7/dist-packages (from requests>=2.20->yfinance) (2020.12.5)\n",
            "Requirement already satisfied, skipping upgrade: chardet<4,>=3.0.2 in /usr/local/lib/python3.7/dist-packages (from requests>=2.20->yfinance) (3.0.4)\n",
            "Requirement already satisfied, skipping upgrade: six>=1.5 in /usr/local/lib/python3.7/dist-packages (from python-dateutil>=2.7.3->pandas>=0.24->yfinance) (1.15.0)\n",
            "Building wheels for collected packages: yfinance\n",
            "  Building wheel for yfinance (setup.py) ... \u001b[?25l\u001b[?25hdone\n",
            "  Created wheel for yfinance: filename=yfinance-0.1.55-py2.py3-none-any.whl size=22616 sha256=cb057bc83f0dd9b68f3f7bd3bd87758df0e51ae678a0a82fe45b198e511aa6ed\n",
            "  Stored in directory: /tmp/pip-ephem-wheel-cache-zmbp9_cn/wheels/04/98/cc/2702a4242d60bdc14f48b4557c427ded1fe92aedf257d4565c\n",
            "Successfully built yfinance\n",
            "Installing collected packages: lxml, yfinance\n",
            "  Found existing installation: lxml 4.2.6\n",
            "    Uninstalling lxml-4.2.6:\n",
            "      Successfully uninstalled lxml-4.2.6\n",
            "Successfully installed lxml-4.6.2 yfinance-0.1.55\n",
            "Collecting pmdarima\n",
            "\u001b[?25l  Downloading https://files.pythonhosted.org/packages/e4/a8/bdf15174e35d072e145d16388b1d3bc7605b752610170cb022a290411427/pmdarima-1.8.0-cp37-cp37m-manylinux1_x86_64.whl (1.5MB)\n",
            "\u001b[K     |████████████████████████████████| 1.5MB 4.5MB/s \n",
            "\u001b[?25hCollecting Cython<0.29.18,>=0.29\n",
            "\u001b[?25l  Downloading https://files.pythonhosted.org/packages/dc/6c/198da24bf0a1d5b5ee6119e891c5300bb1b0b8904832fac9ff62d4e381c9/Cython-0.29.17-cp37-cp37m-manylinux1_x86_64.whl (2.1MB)\n",
            "\u001b[K     |████████████████████████████████| 2.1MB 18.6MB/s \n",
            "\u001b[?25hRequirement already satisfied: pandas>=0.19 in /usr/local/lib/python3.7/dist-packages (from pmdarima) (1.1.5)\n",
            "Requirement already satisfied: scipy>=1.3.2 in /usr/local/lib/python3.7/dist-packages (from pmdarima) (1.4.1)\n",
            "Collecting statsmodels!=0.12.0,>=0.11\n",
            "\u001b[?25l  Downloading https://files.pythonhosted.org/packages/da/69/8eef30a6237c54f3c0b524140e2975f4b1eea3489b45eb3339574fc8acee/statsmodels-0.12.2-cp37-cp37m-manylinux1_x86_64.whl (9.5MB)\n",
            "\u001b[K     |████████████████████████████████| 9.5MB 27.5MB/s \n",
            "\u001b[?25hRequirement already satisfied: numpy>=1.17.3 in /usr/local/lib/python3.7/dist-packages (from pmdarima) (1.19.5)\n",
            "Requirement already satisfied: joblib>=0.11 in /usr/local/lib/python3.7/dist-packages (from pmdarima) (1.0.1)\n",
            "Requirement already satisfied: scikit-learn>=0.22 in /usr/local/lib/python3.7/dist-packages (from pmdarima) (0.22.2.post1)\n",
            "Requirement already satisfied: setuptools!=50.0.0,>=38.6.0 in /usr/local/lib/python3.7/dist-packages (from pmdarima) (54.0.0)\n",
            "Requirement already satisfied: urllib3 in /usr/local/lib/python3.7/dist-packages (from pmdarima) (1.24.3)\n",
            "Requirement already satisfied: python-dateutil>=2.7.3 in /usr/local/lib/python3.7/dist-packages (from pandas>=0.19->pmdarima) (2.8.1)\n",
            "Requirement already satisfied: pytz>=2017.2 in /usr/local/lib/python3.7/dist-packages (from pandas>=0.19->pmdarima) (2018.9)\n",
            "Requirement already satisfied: patsy>=0.5 in /usr/local/lib/python3.7/dist-packages (from statsmodels!=0.12.0,>=0.11->pmdarima) (0.5.1)\n",
            "Requirement already satisfied: six>=1.5 in /usr/local/lib/python3.7/dist-packages (from python-dateutil>=2.7.3->pandas>=0.19->pmdarima) (1.15.0)\n",
            "Installing collected packages: Cython, statsmodels, pmdarima\n",
            "  Found existing installation: Cython 0.29.22\n",
            "    Uninstalling Cython-0.29.22:\n",
            "      Successfully uninstalled Cython-0.29.22\n",
            "  Found existing installation: statsmodels 0.10.2\n",
            "    Uninstalling statsmodels-0.10.2:\n",
            "      Successfully uninstalled statsmodels-0.10.2\n",
            "Successfully installed Cython-0.29.17 pmdarima-1.8.0 statsmodels-0.12.2\n"
          ],
          "name": "stdout"
        }
      ]
    },
    {
      "cell_type": "markdown",
      "metadata": {
        "id": "VzBLdaohPEhS"
      },
      "source": [
        "##Stock to analyze and predict - SENSEX (S&P BSE SENSEX)\n",
        "###STEP 1 - Importing the Library\n",
        "\n",
        "In this step, we will import the Libraries.\n"
      ]
    },
    {
      "cell_type": "code",
      "metadata": {
        "id": "WqJezwtIKqQN",
        "colab": {
          "base_uri": "https://localhost:8080/"
        },
        "outputId": "bebccb31-53fc-486e-8e2f-cd0093c054d7"
      },
      "source": [
        "# Importing libraries in Python\n",
        "from sklearn.preprocessing import MinMaxScaler\n",
        "from sklearn.metrics import mean_squared_error\n",
        "from sklearn import metrics \n",
        "from keras.models import Sequential\n",
        "from keras.layers import Dense, LSTM\n",
        "import pandas as pd\n",
        "import matplotlib.pyplot as plt\n",
        "import numpy as np\n",
        "import math\n",
        "import re\n",
        "import nltk\n",
        "import re\n",
        "from nltk.corpus import stopwords\n",
        "nltk.download('stopwords')\n",
        "nltk.download('vader_lexicon')\n",
        "from textblob import TextBlob\n",
        "from nltk.sentiment.vader import SentimentIntensityAnalyzer\n",
        "from statsmodels.tsa.stattools import adfuller, acf, pacf\n",
        "from sklearn.ensemble import RandomForestRegressor, AdaBoostRegressor\n",
        "import xgboost"
      ],
      "execution_count": 2,
      "outputs": [
        {
          "output_type": "stream",
          "text": [
            "[nltk_data] Downloading package stopwords to /root/nltk_data...\n",
            "[nltk_data]   Unzipping corpora/stopwords.zip.\n",
            "[nltk_data] Downloading package vader_lexicon to /root/nltk_data...\n"
          ],
          "name": "stdout"
        },
        {
          "output_type": "stream",
          "text": [
            "/usr/local/lib/python3.7/dist-packages/nltk/twitter/__init__.py:20: UserWarning: The twython library has not been installed. Some functionality from the twitter package will not be available.\n",
            "  warnings.warn(\"The twython library has not been installed. \"\n"
          ],
          "name": "stderr"
        }
      ]
    },
    {
      "cell_type": "markdown",
      "metadata": {
        "id": "uRwSfsPuPmXN"
      },
      "source": [
        "\n",
        "###STEP 2 - Importing the Dataset"
      ]
    },
    {
      "cell_type": "code",
      "metadata": {
        "id": "yrL-N8oEP7Eo",
        "colab": {
          "base_uri": "https://localhost:8080/"
        },
        "outputId": "e1469e81-7968-45fb-cfbb-a50f8170ec19"
      },
      "source": [
        "import yfinance as yf\n",
        "bsesn_df = yf.download('^BSESN', start='2015-01-01', end='2021-01-01')"
      ],
      "execution_count": 26,
      "outputs": [
        {
          "output_type": "stream",
          "text": [
            "\r[*********************100%***********************]  1 of 1 completed\n"
          ],
          "name": "stdout"
        }
      ]
    },
    {
      "cell_type": "code",
      "metadata": {
        "id": "F7DeVDcHQeFr",
        "colab": {
          "base_uri": "https://localhost:8080/",
          "height": 455
        },
        "outputId": "300697c0-b75f-4ed2-fd39-d76b5420c64b"
      },
      "source": [
        "#first five rows of dataset\n",
        "bsesn_df"
      ],
      "execution_count": 27,
      "outputs": [
        {
          "output_type": "execute_result",
          "data": {
            "text/html": [
              "<div>\n",
              "<style scoped>\n",
              "    .dataframe tbody tr th:only-of-type {\n",
              "        vertical-align: middle;\n",
              "    }\n",
              "\n",
              "    .dataframe tbody tr th {\n",
              "        vertical-align: top;\n",
              "    }\n",
              "\n",
              "    .dataframe thead th {\n",
              "        text-align: right;\n",
              "    }\n",
              "</style>\n",
              "<table border=\"1\" class=\"dataframe\">\n",
              "  <thead>\n",
              "    <tr style=\"text-align: right;\">\n",
              "      <th></th>\n",
              "      <th>Open</th>\n",
              "      <th>High</th>\n",
              "      <th>Low</th>\n",
              "      <th>Close</th>\n",
              "      <th>Adj Close</th>\n",
              "      <th>Volume</th>\n",
              "    </tr>\n",
              "    <tr>\n",
              "      <th>Date</th>\n",
              "      <th></th>\n",
              "      <th></th>\n",
              "      <th></th>\n",
              "      <th></th>\n",
              "      <th></th>\n",
              "      <th></th>\n",
              "    </tr>\n",
              "  </thead>\n",
              "  <tbody>\n",
              "    <tr>\n",
              "      <th>2015-01-02</th>\n",
              "      <td>27521.279297</td>\n",
              "      <td>27937.470703</td>\n",
              "      <td>27519.259766</td>\n",
              "      <td>27887.900391</td>\n",
              "      <td>27887.900391</td>\n",
              "      <td>7400</td>\n",
              "    </tr>\n",
              "    <tr>\n",
              "      <th>2015-01-05</th>\n",
              "      <td>27978.429688</td>\n",
              "      <td>28064.490234</td>\n",
              "      <td>27786.849609</td>\n",
              "      <td>27842.320312</td>\n",
              "      <td>27842.320312</td>\n",
              "      <td>9200</td>\n",
              "    </tr>\n",
              "    <tr>\n",
              "      <th>2015-01-06</th>\n",
              "      <td>27694.230469</td>\n",
              "      <td>27698.929688</td>\n",
              "      <td>26937.060547</td>\n",
              "      <td>26987.460938</td>\n",
              "      <td>26987.460938</td>\n",
              "      <td>14100</td>\n",
              "    </tr>\n",
              "    <tr>\n",
              "      <th>2015-01-07</th>\n",
              "      <td>26983.429688</td>\n",
              "      <td>27051.599609</td>\n",
              "      <td>26776.119141</td>\n",
              "      <td>26908.820312</td>\n",
              "      <td>26908.820312</td>\n",
              "      <td>12200</td>\n",
              "    </tr>\n",
              "    <tr>\n",
              "      <th>2015-01-08</th>\n",
              "      <td>27178.769531</td>\n",
              "      <td>27316.410156</td>\n",
              "      <td>27101.939453</td>\n",
              "      <td>27274.710938</td>\n",
              "      <td>27274.710938</td>\n",
              "      <td>8200</td>\n",
              "    </tr>\n",
              "    <tr>\n",
              "      <th>...</th>\n",
              "      <td>...</td>\n",
              "      <td>...</td>\n",
              "      <td>...</td>\n",
              "      <td>...</td>\n",
              "      <td>...</td>\n",
              "      <td>...</td>\n",
              "    </tr>\n",
              "    <tr>\n",
              "      <th>2020-12-24</th>\n",
              "      <td>46743.488281</td>\n",
              "      <td>47053.398438</td>\n",
              "      <td>46539.019531</td>\n",
              "      <td>46973.539062</td>\n",
              "      <td>46973.539062</td>\n",
              "      <td>13700</td>\n",
              "    </tr>\n",
              "    <tr>\n",
              "      <th>2020-12-28</th>\n",
              "      <td>47153.589844</td>\n",
              "      <td>47406.718750</td>\n",
              "      <td>47148.238281</td>\n",
              "      <td>47353.750000</td>\n",
              "      <td>47353.750000</td>\n",
              "      <td>9600</td>\n",
              "    </tr>\n",
              "    <tr>\n",
              "      <th>2020-12-29</th>\n",
              "      <td>47466.621094</td>\n",
              "      <td>47714.550781</td>\n",
              "      <td>47361.898438</td>\n",
              "      <td>47613.078125</td>\n",
              "      <td>47613.078125</td>\n",
              "      <td>12800</td>\n",
              "    </tr>\n",
              "    <tr>\n",
              "      <th>2020-12-30</th>\n",
              "      <td>47789.031250</td>\n",
              "      <td>47807.851562</td>\n",
              "      <td>47358.359375</td>\n",
              "      <td>47746.218750</td>\n",
              "      <td>47746.218750</td>\n",
              "      <td>15600</td>\n",
              "    </tr>\n",
              "    <tr>\n",
              "      <th>2020-12-31</th>\n",
              "      <td>47753.109375</td>\n",
              "      <td>47896.968750</td>\n",
              "      <td>47602.121094</td>\n",
              "      <td>47751.328125</td>\n",
              "      <td>47751.328125</td>\n",
              "      <td>13900</td>\n",
              "    </tr>\n",
              "  </tbody>\n",
              "</table>\n",
              "<p>1474 rows × 6 columns</p>\n",
              "</div>"
            ],
            "text/plain": [
              "                    Open          High  ...     Adj Close  Volume\n",
              "Date                                    ...                      \n",
              "2015-01-02  27521.279297  27937.470703  ...  27887.900391    7400\n",
              "2015-01-05  27978.429688  28064.490234  ...  27842.320312    9200\n",
              "2015-01-06  27694.230469  27698.929688  ...  26987.460938   14100\n",
              "2015-01-07  26983.429688  27051.599609  ...  26908.820312   12200\n",
              "2015-01-08  27178.769531  27316.410156  ...  27274.710938    8200\n",
              "...                  ...           ...  ...           ...     ...\n",
              "2020-12-24  46743.488281  47053.398438  ...  46973.539062   13700\n",
              "2020-12-28  47153.589844  47406.718750  ...  47353.750000    9600\n",
              "2020-12-29  47466.621094  47714.550781  ...  47613.078125   12800\n",
              "2020-12-30  47789.031250  47807.851562  ...  47746.218750   15600\n",
              "2020-12-31  47753.109375  47896.968750  ...  47751.328125   13900\n",
              "\n",
              "[1474 rows x 6 columns]"
            ]
          },
          "metadata": {
            "tags": []
          },
          "execution_count": 27
        }
      ]
    },
    {
      "cell_type": "code",
      "metadata": {
        "id": "Usp672_vB7Lm"
      },
      "source": [
        "bsesn_df.rename(columns={'Open': 'open', 'High': 'high', 'Low': 'low', 'Close': 'close', 'Adj Close': 'adjclose', 'Volume': 'volume'}, inplace = True)"
      ],
      "execution_count": 28,
      "outputs": []
    },
    {
      "cell_type": "code",
      "metadata": {
        "id": "BUDKWA2XQmtD",
        "colab": {
          "base_uri": "https://localhost:8080/",
          "height": 238
        },
        "outputId": "d9332576-ac52-46bc-94e7-1e6e1a706f17"
      },
      "source": [
        "#last five rows of dataset\n",
        "bsesn_df.tail()"
      ],
      "execution_count": 29,
      "outputs": [
        {
          "output_type": "execute_result",
          "data": {
            "text/html": [
              "<div>\n",
              "<style scoped>\n",
              "    .dataframe tbody tr th:only-of-type {\n",
              "        vertical-align: middle;\n",
              "    }\n",
              "\n",
              "    .dataframe tbody tr th {\n",
              "        vertical-align: top;\n",
              "    }\n",
              "\n",
              "    .dataframe thead th {\n",
              "        text-align: right;\n",
              "    }\n",
              "</style>\n",
              "<table border=\"1\" class=\"dataframe\">\n",
              "  <thead>\n",
              "    <tr style=\"text-align: right;\">\n",
              "      <th></th>\n",
              "      <th>open</th>\n",
              "      <th>high</th>\n",
              "      <th>low</th>\n",
              "      <th>close</th>\n",
              "      <th>adjclose</th>\n",
              "      <th>volume</th>\n",
              "    </tr>\n",
              "    <tr>\n",
              "      <th>Date</th>\n",
              "      <th></th>\n",
              "      <th></th>\n",
              "      <th></th>\n",
              "      <th></th>\n",
              "      <th></th>\n",
              "      <th></th>\n",
              "    </tr>\n",
              "  </thead>\n",
              "  <tbody>\n",
              "    <tr>\n",
              "      <th>2020-12-24</th>\n",
              "      <td>46743.488281</td>\n",
              "      <td>47053.398438</td>\n",
              "      <td>46539.019531</td>\n",
              "      <td>46973.539062</td>\n",
              "      <td>46973.539062</td>\n",
              "      <td>13700</td>\n",
              "    </tr>\n",
              "    <tr>\n",
              "      <th>2020-12-28</th>\n",
              "      <td>47153.589844</td>\n",
              "      <td>47406.718750</td>\n",
              "      <td>47148.238281</td>\n",
              "      <td>47353.750000</td>\n",
              "      <td>47353.750000</td>\n",
              "      <td>9600</td>\n",
              "    </tr>\n",
              "    <tr>\n",
              "      <th>2020-12-29</th>\n",
              "      <td>47466.621094</td>\n",
              "      <td>47714.550781</td>\n",
              "      <td>47361.898438</td>\n",
              "      <td>47613.078125</td>\n",
              "      <td>47613.078125</td>\n",
              "      <td>12800</td>\n",
              "    </tr>\n",
              "    <tr>\n",
              "      <th>2020-12-30</th>\n",
              "      <td>47789.031250</td>\n",
              "      <td>47807.851562</td>\n",
              "      <td>47358.359375</td>\n",
              "      <td>47746.218750</td>\n",
              "      <td>47746.218750</td>\n",
              "      <td>15600</td>\n",
              "    </tr>\n",
              "    <tr>\n",
              "      <th>2020-12-31</th>\n",
              "      <td>47753.109375</td>\n",
              "      <td>47896.968750</td>\n",
              "      <td>47602.121094</td>\n",
              "      <td>47751.328125</td>\n",
              "      <td>47751.328125</td>\n",
              "      <td>13900</td>\n",
              "    </tr>\n",
              "  </tbody>\n",
              "</table>\n",
              "</div>"
            ],
            "text/plain": [
              "                    open          high  ...      adjclose  volume\n",
              "Date                                    ...                      \n",
              "2020-12-24  46743.488281  47053.398438  ...  46973.539062   13700\n",
              "2020-12-28  47153.589844  47406.718750  ...  47353.750000    9600\n",
              "2020-12-29  47466.621094  47714.550781  ...  47613.078125   12800\n",
              "2020-12-30  47789.031250  47807.851562  ...  47746.218750   15600\n",
              "2020-12-31  47753.109375  47896.968750  ...  47751.328125   13900\n",
              "\n",
              "[5 rows x 6 columns]"
            ]
          },
          "metadata": {
            "tags": []
          },
          "execution_count": 29
        }
      ]
    },
    {
      "cell_type": "code",
      "metadata": {
        "id": "T7v1SYbeEu37"
      },
      "source": [
        "bsesn_df.reset_index(inplace=True)"
      ],
      "execution_count": 30,
      "outputs": []
    },
    {
      "cell_type": "code",
      "metadata": {
        "colab": {
          "base_uri": "https://localhost:8080/",
          "height": 424
        },
        "id": "wT7Yjfv1kLVI",
        "outputId": "a2b28149-cc1d-4c70-d292-6e0fce63caf3"
      },
      "source": [
        "bsesn_df"
      ],
      "execution_count": 31,
      "outputs": [
        {
          "output_type": "execute_result",
          "data": {
            "text/html": [
              "<div>\n",
              "<style scoped>\n",
              "    .dataframe tbody tr th:only-of-type {\n",
              "        vertical-align: middle;\n",
              "    }\n",
              "\n",
              "    .dataframe tbody tr th {\n",
              "        vertical-align: top;\n",
              "    }\n",
              "\n",
              "    .dataframe thead th {\n",
              "        text-align: right;\n",
              "    }\n",
              "</style>\n",
              "<table border=\"1\" class=\"dataframe\">\n",
              "  <thead>\n",
              "    <tr style=\"text-align: right;\">\n",
              "      <th></th>\n",
              "      <th>Date</th>\n",
              "      <th>open</th>\n",
              "      <th>high</th>\n",
              "      <th>low</th>\n",
              "      <th>close</th>\n",
              "      <th>adjclose</th>\n",
              "      <th>volume</th>\n",
              "    </tr>\n",
              "  </thead>\n",
              "  <tbody>\n",
              "    <tr>\n",
              "      <th>0</th>\n",
              "      <td>2015-01-02</td>\n",
              "      <td>27521.279297</td>\n",
              "      <td>27937.470703</td>\n",
              "      <td>27519.259766</td>\n",
              "      <td>27887.900391</td>\n",
              "      <td>27887.900391</td>\n",
              "      <td>7400</td>\n",
              "    </tr>\n",
              "    <tr>\n",
              "      <th>1</th>\n",
              "      <td>2015-01-05</td>\n",
              "      <td>27978.429688</td>\n",
              "      <td>28064.490234</td>\n",
              "      <td>27786.849609</td>\n",
              "      <td>27842.320312</td>\n",
              "      <td>27842.320312</td>\n",
              "      <td>9200</td>\n",
              "    </tr>\n",
              "    <tr>\n",
              "      <th>2</th>\n",
              "      <td>2015-01-06</td>\n",
              "      <td>27694.230469</td>\n",
              "      <td>27698.929688</td>\n",
              "      <td>26937.060547</td>\n",
              "      <td>26987.460938</td>\n",
              "      <td>26987.460938</td>\n",
              "      <td>14100</td>\n",
              "    </tr>\n",
              "    <tr>\n",
              "      <th>3</th>\n",
              "      <td>2015-01-07</td>\n",
              "      <td>26983.429688</td>\n",
              "      <td>27051.599609</td>\n",
              "      <td>26776.119141</td>\n",
              "      <td>26908.820312</td>\n",
              "      <td>26908.820312</td>\n",
              "      <td>12200</td>\n",
              "    </tr>\n",
              "    <tr>\n",
              "      <th>4</th>\n",
              "      <td>2015-01-08</td>\n",
              "      <td>27178.769531</td>\n",
              "      <td>27316.410156</td>\n",
              "      <td>27101.939453</td>\n",
              "      <td>27274.710938</td>\n",
              "      <td>27274.710938</td>\n",
              "      <td>8200</td>\n",
              "    </tr>\n",
              "    <tr>\n",
              "      <th>...</th>\n",
              "      <td>...</td>\n",
              "      <td>...</td>\n",
              "      <td>...</td>\n",
              "      <td>...</td>\n",
              "      <td>...</td>\n",
              "      <td>...</td>\n",
              "      <td>...</td>\n",
              "    </tr>\n",
              "    <tr>\n",
              "      <th>1469</th>\n",
              "      <td>2020-12-24</td>\n",
              "      <td>46743.488281</td>\n",
              "      <td>47053.398438</td>\n",
              "      <td>46539.019531</td>\n",
              "      <td>46973.539062</td>\n",
              "      <td>46973.539062</td>\n",
              "      <td>13700</td>\n",
              "    </tr>\n",
              "    <tr>\n",
              "      <th>1470</th>\n",
              "      <td>2020-12-28</td>\n",
              "      <td>47153.589844</td>\n",
              "      <td>47406.718750</td>\n",
              "      <td>47148.238281</td>\n",
              "      <td>47353.750000</td>\n",
              "      <td>47353.750000</td>\n",
              "      <td>9600</td>\n",
              "    </tr>\n",
              "    <tr>\n",
              "      <th>1471</th>\n",
              "      <td>2020-12-29</td>\n",
              "      <td>47466.621094</td>\n",
              "      <td>47714.550781</td>\n",
              "      <td>47361.898438</td>\n",
              "      <td>47613.078125</td>\n",
              "      <td>47613.078125</td>\n",
              "      <td>12800</td>\n",
              "    </tr>\n",
              "    <tr>\n",
              "      <th>1472</th>\n",
              "      <td>2020-12-30</td>\n",
              "      <td>47789.031250</td>\n",
              "      <td>47807.851562</td>\n",
              "      <td>47358.359375</td>\n",
              "      <td>47746.218750</td>\n",
              "      <td>47746.218750</td>\n",
              "      <td>15600</td>\n",
              "    </tr>\n",
              "    <tr>\n",
              "      <th>1473</th>\n",
              "      <td>2020-12-31</td>\n",
              "      <td>47753.109375</td>\n",
              "      <td>47896.968750</td>\n",
              "      <td>47602.121094</td>\n",
              "      <td>47751.328125</td>\n",
              "      <td>47751.328125</td>\n",
              "      <td>13900</td>\n",
              "    </tr>\n",
              "  </tbody>\n",
              "</table>\n",
              "<p>1474 rows × 7 columns</p>\n",
              "</div>"
            ],
            "text/plain": [
              "           Date          open          high  ...         close      adjclose  volume\n",
              "0    2015-01-02  27521.279297  27937.470703  ...  27887.900391  27887.900391    7400\n",
              "1    2015-01-05  27978.429688  28064.490234  ...  27842.320312  27842.320312    9200\n",
              "2    2015-01-06  27694.230469  27698.929688  ...  26987.460938  26987.460938   14100\n",
              "3    2015-01-07  26983.429688  27051.599609  ...  26908.820312  26908.820312   12200\n",
              "4    2015-01-08  27178.769531  27316.410156  ...  27274.710938  27274.710938    8200\n",
              "...         ...           ...           ...  ...           ...           ...     ...\n",
              "1469 2020-12-24  46743.488281  47053.398438  ...  46973.539062  46973.539062   13700\n",
              "1470 2020-12-28  47153.589844  47406.718750  ...  47353.750000  47353.750000    9600\n",
              "1471 2020-12-29  47466.621094  47714.550781  ...  47613.078125  47613.078125   12800\n",
              "1472 2020-12-30  47789.031250  47807.851562  ...  47746.218750  47746.218750   15600\n",
              "1473 2020-12-31  47753.109375  47896.968750  ...  47751.328125  47751.328125   13900\n",
              "\n",
              "[1474 rows x 7 columns]"
            ]
          },
          "metadata": {
            "tags": []
          },
          "execution_count": 31
        }
      ]
    },
    {
      "cell_type": "code",
      "metadata": {
        "id": "Co6jKITlE94A"
      },
      "source": [
        "#bsesn_df.rename(columns={'Date': 'date'}, inplace = True)"
      ],
      "execution_count": 32,
      "outputs": []
    },
    {
      "cell_type": "code",
      "metadata": {
        "colab": {
          "base_uri": "https://localhost:8080/",
          "height": 206
        },
        "id": "a48Yt9POFPMW",
        "outputId": "08ed0366-a01c-4ba5-c771-c74ad2ef31ca"
      },
      "source": [
        "#first five rows of dataset\n",
        "bsesn_df.head()"
      ],
      "execution_count": 33,
      "outputs": [
        {
          "output_type": "execute_result",
          "data": {
            "text/html": [
              "<div>\n",
              "<style scoped>\n",
              "    .dataframe tbody tr th:only-of-type {\n",
              "        vertical-align: middle;\n",
              "    }\n",
              "\n",
              "    .dataframe tbody tr th {\n",
              "        vertical-align: top;\n",
              "    }\n",
              "\n",
              "    .dataframe thead th {\n",
              "        text-align: right;\n",
              "    }\n",
              "</style>\n",
              "<table border=\"1\" class=\"dataframe\">\n",
              "  <thead>\n",
              "    <tr style=\"text-align: right;\">\n",
              "      <th></th>\n",
              "      <th>Date</th>\n",
              "      <th>open</th>\n",
              "      <th>high</th>\n",
              "      <th>low</th>\n",
              "      <th>close</th>\n",
              "      <th>adjclose</th>\n",
              "      <th>volume</th>\n",
              "    </tr>\n",
              "  </thead>\n",
              "  <tbody>\n",
              "    <tr>\n",
              "      <th>0</th>\n",
              "      <td>2015-01-02</td>\n",
              "      <td>27521.279297</td>\n",
              "      <td>27937.470703</td>\n",
              "      <td>27519.259766</td>\n",
              "      <td>27887.900391</td>\n",
              "      <td>27887.900391</td>\n",
              "      <td>7400</td>\n",
              "    </tr>\n",
              "    <tr>\n",
              "      <th>1</th>\n",
              "      <td>2015-01-05</td>\n",
              "      <td>27978.429688</td>\n",
              "      <td>28064.490234</td>\n",
              "      <td>27786.849609</td>\n",
              "      <td>27842.320312</td>\n",
              "      <td>27842.320312</td>\n",
              "      <td>9200</td>\n",
              "    </tr>\n",
              "    <tr>\n",
              "      <th>2</th>\n",
              "      <td>2015-01-06</td>\n",
              "      <td>27694.230469</td>\n",
              "      <td>27698.929688</td>\n",
              "      <td>26937.060547</td>\n",
              "      <td>26987.460938</td>\n",
              "      <td>26987.460938</td>\n",
              "      <td>14100</td>\n",
              "    </tr>\n",
              "    <tr>\n",
              "      <th>3</th>\n",
              "      <td>2015-01-07</td>\n",
              "      <td>26983.429688</td>\n",
              "      <td>27051.599609</td>\n",
              "      <td>26776.119141</td>\n",
              "      <td>26908.820312</td>\n",
              "      <td>26908.820312</td>\n",
              "      <td>12200</td>\n",
              "    </tr>\n",
              "    <tr>\n",
              "      <th>4</th>\n",
              "      <td>2015-01-08</td>\n",
              "      <td>27178.769531</td>\n",
              "      <td>27316.410156</td>\n",
              "      <td>27101.939453</td>\n",
              "      <td>27274.710938</td>\n",
              "      <td>27274.710938</td>\n",
              "      <td>8200</td>\n",
              "    </tr>\n",
              "  </tbody>\n",
              "</table>\n",
              "</div>"
            ],
            "text/plain": [
              "        Date          open          high  ...         close      adjclose  volume\n",
              "0 2015-01-02  27521.279297  27937.470703  ...  27887.900391  27887.900391    7400\n",
              "1 2015-01-05  27978.429688  28064.490234  ...  27842.320312  27842.320312    9200\n",
              "2 2015-01-06  27694.230469  27698.929688  ...  26987.460938  26987.460938   14100\n",
              "3 2015-01-07  26983.429688  27051.599609  ...  26908.820312  26908.820312   12200\n",
              "4 2015-01-08  27178.769531  27316.410156  ...  27274.710938  27274.710938    8200\n",
              "\n",
              "[5 rows x 7 columns]"
            ]
          },
          "metadata": {
            "tags": []
          },
          "execution_count": 33
        }
      ]
    },
    {
      "cell_type": "markdown",
      "metadata": {
        "id": "_PtvjdkRbZsU"
      },
      "source": [
        "###STEP 3 - Data Exploration"
      ]
    },
    {
      "cell_type": "code",
      "metadata": {
        "id": "ztzzUcrNQuQe",
        "colab": {
          "base_uri": "https://localhost:8080/"
        },
        "outputId": "693c4ca7-5dcb-4046-f441-3eddff1d689d"
      },
      "source": [
        "#shape of dataset\n",
        "bsesn_df.shape"
      ],
      "execution_count": 34,
      "outputs": [
        {
          "output_type": "execute_result",
          "data": {
            "text/plain": [
              "(1474, 7)"
            ]
          },
          "metadata": {
            "tags": []
          },
          "execution_count": 34
        }
      ]
    },
    {
      "cell_type": "code",
      "metadata": {
        "id": "y5_HHIP9Q_BQ",
        "colab": {
          "base_uri": "https://localhost:8080/"
        },
        "outputId": "9bdcf358-a67b-4230-d37d-c8f67cd10910"
      },
      "source": [
        "#info of the dataset \n",
        "bsesn_df.info()"
      ],
      "execution_count": 35,
      "outputs": [
        {
          "output_type": "stream",
          "text": [
            "<class 'pandas.core.frame.DataFrame'>\n",
            "RangeIndex: 1474 entries, 0 to 1473\n",
            "Data columns (total 7 columns):\n",
            " #   Column    Non-Null Count  Dtype         \n",
            "---  ------    --------------  -----         \n",
            " 0   Date      1474 non-null   datetime64[ns]\n",
            " 1   open      1474 non-null   float64       \n",
            " 2   high      1474 non-null   float64       \n",
            " 3   low       1474 non-null   float64       \n",
            " 4   close     1474 non-null   float64       \n",
            " 5   adjclose  1474 non-null   float64       \n",
            " 6   volume    1474 non-null   int64         \n",
            "dtypes: datetime64[ns](1), float64(5), int64(1)\n",
            "memory usage: 80.7 KB\n"
          ],
          "name": "stdout"
        }
      ]
    },
    {
      "cell_type": "code",
      "metadata": {
        "id": "vE2QLG2pRF_7",
        "colab": {
          "base_uri": "https://localhost:8080/",
          "height": 301
        },
        "outputId": "c26b7788-6cd9-4cae-9ce7-cfa61b924db2"
      },
      "source": [
        "#summary of the data\n",
        "bsesn_df.describe()"
      ],
      "execution_count": 36,
      "outputs": [
        {
          "output_type": "execute_result",
          "data": {
            "text/html": [
              "<div>\n",
              "<style scoped>\n",
              "    .dataframe tbody tr th:only-of-type {\n",
              "        vertical-align: middle;\n",
              "    }\n",
              "\n",
              "    .dataframe tbody tr th {\n",
              "        vertical-align: top;\n",
              "    }\n",
              "\n",
              "    .dataframe thead th {\n",
              "        text-align: right;\n",
              "    }\n",
              "</style>\n",
              "<table border=\"1\" class=\"dataframe\">\n",
              "  <thead>\n",
              "    <tr style=\"text-align: right;\">\n",
              "      <th></th>\n",
              "      <th>open</th>\n",
              "      <th>high</th>\n",
              "      <th>low</th>\n",
              "      <th>close</th>\n",
              "      <th>adjclose</th>\n",
              "      <th>volume</th>\n",
              "    </tr>\n",
              "  </thead>\n",
              "  <tbody>\n",
              "    <tr>\n",
              "      <th>count</th>\n",
              "      <td>1474.000000</td>\n",
              "      <td>1474.000000</td>\n",
              "      <td>1474.000000</td>\n",
              "      <td>1474.000000</td>\n",
              "      <td>1474.000000</td>\n",
              "      <td>1.474000e+03</td>\n",
              "    </tr>\n",
              "    <tr>\n",
              "      <th>mean</th>\n",
              "      <td>32766.649284</td>\n",
              "      <td>32920.704153</td>\n",
              "      <td>32533.969631</td>\n",
              "      <td>32720.969157</td>\n",
              "      <td>32720.969157</td>\n",
              "      <td>2.302398e+05</td>\n",
              "    </tr>\n",
              "    <tr>\n",
              "      <th>std</th>\n",
              "      <td>5383.317285</td>\n",
              "      <td>5396.588432</td>\n",
              "      <td>5352.094624</td>\n",
              "      <td>5378.409081</td>\n",
              "      <td>5378.409081</td>\n",
              "      <td>1.941555e+06</td>\n",
              "    </tr>\n",
              "    <tr>\n",
              "      <th>min</th>\n",
              "      <td>23060.390625</td>\n",
              "      <td>23142.960938</td>\n",
              "      <td>22494.609375</td>\n",
              "      <td>22951.830078</td>\n",
              "      <td>22951.830078</td>\n",
              "      <td>2.500000e+03</td>\n",
              "    </tr>\n",
              "    <tr>\n",
              "      <th>25%</th>\n",
              "      <td>27886.702148</td>\n",
              "      <td>28029.185547</td>\n",
              "      <td>27717.564453</td>\n",
              "      <td>27877.024414</td>\n",
              "      <td>27877.024414</td>\n",
              "      <td>1.020000e+04</td>\n",
              "    </tr>\n",
              "    <tr>\n",
              "      <th>50%</th>\n",
              "      <td>32630.419922</td>\n",
              "      <td>32776.445312</td>\n",
              "      <td>32453.839844</td>\n",
              "      <td>32602.259766</td>\n",
              "      <td>32602.259766</td>\n",
              "      <td>1.340000e+04</td>\n",
              "    </tr>\n",
              "    <tr>\n",
              "      <th>75%</th>\n",
              "      <td>37230.690430</td>\n",
              "      <td>37411.762695</td>\n",
              "      <td>36908.123047</td>\n",
              "      <td>37120.468750</td>\n",
              "      <td>37120.468750</td>\n",
              "      <td>1.850000e+04</td>\n",
              "    </tr>\n",
              "    <tr>\n",
              "      <th>max</th>\n",
              "      <td>47789.031250</td>\n",
              "      <td>47896.968750</td>\n",
              "      <td>47602.121094</td>\n",
              "      <td>47751.328125</td>\n",
              "      <td>47751.328125</td>\n",
              "      <td>3.181510e+07</td>\n",
              "    </tr>\n",
              "  </tbody>\n",
              "</table>\n",
              "</div>"
            ],
            "text/plain": [
              "               open          high  ...      adjclose        volume\n",
              "count   1474.000000   1474.000000  ...   1474.000000  1.474000e+03\n",
              "mean   32766.649284  32920.704153  ...  32720.969157  2.302398e+05\n",
              "std     5383.317285   5396.588432  ...   5378.409081  1.941555e+06\n",
              "min    23060.390625  23142.960938  ...  22951.830078  2.500000e+03\n",
              "25%    27886.702148  28029.185547  ...  27877.024414  1.020000e+04\n",
              "50%    32630.419922  32776.445312  ...  32602.259766  1.340000e+04\n",
              "75%    37230.690430  37411.762695  ...  37120.468750  1.850000e+04\n",
              "max    47789.031250  47896.968750  ...  47751.328125  3.181510e+07\n",
              "\n",
              "[8 rows x 6 columns]"
            ]
          },
          "metadata": {
            "tags": []
          },
          "execution_count": 36
        }
      ]
    },
    {
      "cell_type": "markdown",
      "metadata": {
        "id": "dVFFLuY9R_ev"
      },
      "source": [
        "###STEP 4 - Visualizing the Dataset"
      ]
    },
    {
      "cell_type": "code",
      "metadata": {
        "id": "LtY-Yhd4R8nr"
      },
      "source": [
        "# Extract date frame and plot closing stock price w.r.t time\n",
        "bsesn_df['Date'] = pd.to_datetime(bsesn_df.Date,format='%Y-%m-%d')\n",
        "bsesn_df.index = bsesn_df['Date']\n",
        "bsesn_df.dropna(inplace=True)\n"
      ],
      "execution_count": 40,
      "outputs": []
    },
    {
      "cell_type": "code",
      "metadata": {
        "id": "OJ6eB9z_kk0B"
      },
      "source": [
        "bsesn_df.drop(['Date'], axis=1,inplace=True)"
      ],
      "execution_count": 41,
      "outputs": []
    },
    {
      "cell_type": "code",
      "metadata": {
        "colab": {
          "base_uri": "https://localhost:8080/",
          "height": 455
        },
        "id": "DJTkpmQ0wXNA",
        "outputId": "1a4bd5f2-a458-41b7-dda8-aaf8489600ec"
      },
      "source": [
        "bsesn_df"
      ],
      "execution_count": 42,
      "outputs": [
        {
          "output_type": "execute_result",
          "data": {
            "text/html": [
              "<div>\n",
              "<style scoped>\n",
              "    .dataframe tbody tr th:only-of-type {\n",
              "        vertical-align: middle;\n",
              "    }\n",
              "\n",
              "    .dataframe tbody tr th {\n",
              "        vertical-align: top;\n",
              "    }\n",
              "\n",
              "    .dataframe thead th {\n",
              "        text-align: right;\n",
              "    }\n",
              "</style>\n",
              "<table border=\"1\" class=\"dataframe\">\n",
              "  <thead>\n",
              "    <tr style=\"text-align: right;\">\n",
              "      <th></th>\n",
              "      <th>open</th>\n",
              "      <th>high</th>\n",
              "      <th>low</th>\n",
              "      <th>close</th>\n",
              "      <th>adjclose</th>\n",
              "      <th>volume</th>\n",
              "    </tr>\n",
              "    <tr>\n",
              "      <th>Date</th>\n",
              "      <th></th>\n",
              "      <th></th>\n",
              "      <th></th>\n",
              "      <th></th>\n",
              "      <th></th>\n",
              "      <th></th>\n",
              "    </tr>\n",
              "  </thead>\n",
              "  <tbody>\n",
              "    <tr>\n",
              "      <th>2015-01-02</th>\n",
              "      <td>27521.279297</td>\n",
              "      <td>27937.470703</td>\n",
              "      <td>27519.259766</td>\n",
              "      <td>27887.900391</td>\n",
              "      <td>27887.900391</td>\n",
              "      <td>7400</td>\n",
              "    </tr>\n",
              "    <tr>\n",
              "      <th>2015-01-05</th>\n",
              "      <td>27978.429688</td>\n",
              "      <td>28064.490234</td>\n",
              "      <td>27786.849609</td>\n",
              "      <td>27842.320312</td>\n",
              "      <td>27842.320312</td>\n",
              "      <td>9200</td>\n",
              "    </tr>\n",
              "    <tr>\n",
              "      <th>2015-01-06</th>\n",
              "      <td>27694.230469</td>\n",
              "      <td>27698.929688</td>\n",
              "      <td>26937.060547</td>\n",
              "      <td>26987.460938</td>\n",
              "      <td>26987.460938</td>\n",
              "      <td>14100</td>\n",
              "    </tr>\n",
              "    <tr>\n",
              "      <th>2015-01-07</th>\n",
              "      <td>26983.429688</td>\n",
              "      <td>27051.599609</td>\n",
              "      <td>26776.119141</td>\n",
              "      <td>26908.820312</td>\n",
              "      <td>26908.820312</td>\n",
              "      <td>12200</td>\n",
              "    </tr>\n",
              "    <tr>\n",
              "      <th>2015-01-08</th>\n",
              "      <td>27178.769531</td>\n",
              "      <td>27316.410156</td>\n",
              "      <td>27101.939453</td>\n",
              "      <td>27274.710938</td>\n",
              "      <td>27274.710938</td>\n",
              "      <td>8200</td>\n",
              "    </tr>\n",
              "    <tr>\n",
              "      <th>...</th>\n",
              "      <td>...</td>\n",
              "      <td>...</td>\n",
              "      <td>...</td>\n",
              "      <td>...</td>\n",
              "      <td>...</td>\n",
              "      <td>...</td>\n",
              "    </tr>\n",
              "    <tr>\n",
              "      <th>2020-12-24</th>\n",
              "      <td>46743.488281</td>\n",
              "      <td>47053.398438</td>\n",
              "      <td>46539.019531</td>\n",
              "      <td>46973.539062</td>\n",
              "      <td>46973.539062</td>\n",
              "      <td>13700</td>\n",
              "    </tr>\n",
              "    <tr>\n",
              "      <th>2020-12-28</th>\n",
              "      <td>47153.589844</td>\n",
              "      <td>47406.718750</td>\n",
              "      <td>47148.238281</td>\n",
              "      <td>47353.750000</td>\n",
              "      <td>47353.750000</td>\n",
              "      <td>9600</td>\n",
              "    </tr>\n",
              "    <tr>\n",
              "      <th>2020-12-29</th>\n",
              "      <td>47466.621094</td>\n",
              "      <td>47714.550781</td>\n",
              "      <td>47361.898438</td>\n",
              "      <td>47613.078125</td>\n",
              "      <td>47613.078125</td>\n",
              "      <td>12800</td>\n",
              "    </tr>\n",
              "    <tr>\n",
              "      <th>2020-12-30</th>\n",
              "      <td>47789.031250</td>\n",
              "      <td>47807.851562</td>\n",
              "      <td>47358.359375</td>\n",
              "      <td>47746.218750</td>\n",
              "      <td>47746.218750</td>\n",
              "      <td>15600</td>\n",
              "    </tr>\n",
              "    <tr>\n",
              "      <th>2020-12-31</th>\n",
              "      <td>47753.109375</td>\n",
              "      <td>47896.968750</td>\n",
              "      <td>47602.121094</td>\n",
              "      <td>47751.328125</td>\n",
              "      <td>47751.328125</td>\n",
              "      <td>13900</td>\n",
              "    </tr>\n",
              "  </tbody>\n",
              "</table>\n",
              "<p>1474 rows × 6 columns</p>\n",
              "</div>"
            ],
            "text/plain": [
              "                    open          high  ...      adjclose  volume\n",
              "Date                                    ...                      \n",
              "2015-01-02  27521.279297  27937.470703  ...  27887.900391    7400\n",
              "2015-01-05  27978.429688  28064.490234  ...  27842.320312    9200\n",
              "2015-01-06  27694.230469  27698.929688  ...  26987.460938   14100\n",
              "2015-01-07  26983.429688  27051.599609  ...  26908.820312   12200\n",
              "2015-01-08  27178.769531  27316.410156  ...  27274.710938    8200\n",
              "...                  ...           ...  ...           ...     ...\n",
              "2020-12-24  46743.488281  47053.398438  ...  46973.539062   13700\n",
              "2020-12-28  47153.589844  47406.718750  ...  47353.750000    9600\n",
              "2020-12-29  47466.621094  47714.550781  ...  47613.078125   12800\n",
              "2020-12-30  47789.031250  47807.851562  ...  47746.218750   15600\n",
              "2020-12-31  47753.109375  47896.968750  ...  47751.328125   13900\n",
              "\n",
              "[1474 rows x 6 columns]"
            ]
          },
          "metadata": {
            "tags": []
          },
          "execution_count": 42
        }
      ]
    },
    {
      "cell_type": "code",
      "metadata": {
        "id": "Svt7NUH9Hu8W",
        "colab": {
          "base_uri": "https://localhost:8080/",
          "height": 502
        },
        "outputId": "17396c9c-d3af-4572-a035-e79ce176ff13"
      },
      "source": [
        "#plot\n",
        "plt.figure(figsize=(16,8))\n",
        "plt.plot(bsesn_df['close'], label='Close Price history')"
      ],
      "execution_count": 43,
      "outputs": [
        {
          "output_type": "execute_result",
          "data": {
            "text/plain": [
              "[<matplotlib.lines.Line2D at 0x7f03e3e0aa90>]"
            ]
          },
          "metadata": {
            "tags": []
          },
          "execution_count": 43
        },
        {
          "output_type": "display_data",
          "data": {
            "image/png": "[encoded data removed]",
            "text/plain": [
              "<Figure size 1152x576 with 1 Axes>"
            ]
          },
          "metadata": {
            "tags": [],
            "needs_background": "light"
          }
        }
      ]
    },
    {
      "cell_type": "code",
      "metadata": {
        "colab": {
          "base_uri": "https://localhost:8080/",
          "height": 370
        },
        "id": "cOdls-N_L2nI",
        "outputId": "d85584b5-10aa-41be-9670-45ecb5158da3"
      },
      "source": [
        "#Plotting moving average\n",
        "close_data = bsesn_df['close']\n",
        "ma = close_data.rolling(window = 50).mean()\n",
        "std = close_data.rolling(window = 50).std()\n",
        "#plotting\n",
        "plt.figure(figsize=(10, 6))\n",
        "bsesn_df['close'].plot(color = 'b', label = 'Close')\n",
        "ma.plot(color = 'r', label = 'Rolling Mean')\n",
        "std.plot(label = 'Rolling Standard Deviation')\n",
        "plt.legend();"
      ],
      "execution_count": 44,
      "outputs": [
        {
          "output_type": "display_data",
          "data": {
            "image/png": "[encoded data removed]",
            "text/plain": [
              "<Figure size 720x432 with 1 Axes>"
            ]
          },
          "metadata": {
            "tags": [],
            "needs_background": "light"
          }
        }
      ]
    },
    {
      "cell_type": "code",
      "metadata": {
        "colab": {
          "base_uri": "https://localhost:8080/",
          "height": 393
        },
        "id": "bpN53MymGzS5",
        "outputId": "cae1c418-30b1-4ec0-e600-7c5322088f53"
      },
      "source": [
        "#Plotting returns\n",
        "returns = close_data / close_data.shift(1) - 1\n",
        "\n",
        "plt.figure(figsize = (10,6))\n",
        "returns.plot(label='Return', color = 'purple')\n",
        "plt.xlabel('Date',fontsize = 15)\n",
        "plt.title(\"Returns\",fontsize = 20);"
      ],
      "execution_count": 45,
      "outputs": [
        {
          "output_type": "display_data",
          "data": {
            "image/png": "[encoded data removed]",
            "text/plain": [
              "<Figure size 720x432 with 1 Axes>"
            ]
          },
          "metadata": {
            "tags": [],
            "needs_background": "light"
          }
        }
      ]
    },
    {
      "cell_type": "code",
      "metadata": {
        "id": "iVoBmmVJUcqT"
      },
      "source": [
        "#splitting the dataset\n",
        "train_df = bsesn_df[:1000]\n",
        "test_df = bsesn_df[1000:]"
      ],
      "execution_count": 46,
      "outputs": []
    },
    {
      "cell_type": "code",
      "metadata": {
        "colab": {
          "base_uri": "https://localhost:8080/",
          "height": 635
        },
        "id": "aT4cdJPLMXAx",
        "outputId": "7735e6f3-23a7-47d5-adee-4fa1d12a4286"
      },
      "source": [
        "#Stationarity test\n",
        "def test_stationarity(timeseries):\n",
        "\n",
        " #Determing rolling statistics\n",
        " rolmean = timeseries.rolling(20).mean()\n",
        " rolstd = timeseries.rolling(20).std()\n",
        "\n",
        " #Plot rolling statistics:\n",
        " plt.figure(figsize = (10,8))\n",
        " plt.plot(timeseries, color = 'g', label = 'Original')\n",
        " plt.plot(rolmean, color = 'r', label = 'Rolling Mean')\n",
        " plt.plot(rolstd, color = 'b', label = 'Rolling Standard Deviation')\n",
        " plt.xlabel('Date',fontsize = 15)\n",
        " plt.legend()\n",
        " plt.title('Rolling Mean and Standard Deviation',  fontsize = 20)\n",
        " plt.show(block = False)\n",
        " \n",
        " print('Results of dickey fuller test')\n",
        " result = adfuller(timeseries, autolag = 'AIC')\n",
        " labels = ['ADF Test Statistic','p-value','#Lags Used','Number of Observations Used']\n",
        " for value,label in zip(result, labels):\n",
        "   print(label+' : '+str(value) )\n",
        " if result[1] <= 0.05:\n",
        "   print(\"Strong evidence against the null hypothesis(Ho), reject the null hypothesis. Data is stationary\")\n",
        " else:\n",
        "   print(\"Weak evidence against null hypothesis, time series is non-stationary \")\n",
        "test_stationarity(train_df['close'])"
      ],
      "execution_count": 47,
      "outputs": [
        {
          "output_type": "display_data",
          "data": {
            "image/png": "[encoded data removed]",
            "text/plain": [
              "<Figure size 720x576 with 1 Axes>"
            ]
          },
          "metadata": {
            "tags": [],
            "needs_background": "light"
          }
        },
        {
          "output_type": "stream",
          "text": [
            "Results of dickey fuller test\n",
            "ADF Test Statistic : -0.5913676380781218\n",
            "p-value : 0.8729206808243344\n",
            "#Lags Used : 1\n",
            "Number of Observations Used : 998\n",
            "Weak evidence against null hypothesis, time series is non-stationary \n"
          ],
          "name": "stdout"
        }
      ]
    },
    {
      "cell_type": "code",
      "metadata": {
        "colab": {
          "base_uri": "https://localhost:8080/",
          "height": 374
        },
        "id": "Gs09tVtsPZv-",
        "outputId": "21a1bc08-ddb4-48d2-9d9c-183c03e84b44"
      },
      "source": [
        "train_log = np.log(train_df['close']) \n",
        "test_log = np.log(test_df['close'])\n",
        "\n",
        "mav = train_log.rolling(24).mean() \n",
        "plt.figure(figsize = (10,6))\n",
        "plt.plot(train_log) \n",
        "plt.plot(mav, color = 'red');"
      ],
      "execution_count": 48,
      "outputs": [
        {
          "output_type": "display_data",
          "data": {
            "image/png": "[encoded data removed]",
            "text/plain": [
              "<Figure size 720x432 with 1 Axes>"
            ]
          },
          "metadata": {
            "tags": [],
            "needs_background": "light"
          }
        }
      ]
    },
    {
      "cell_type": "code",
      "metadata": {
        "colab": {
          "base_uri": "https://localhost:8080/",
          "height": 635
        },
        "id": "5z9kQDF5Wz_N",
        "outputId": "7b442687-ef8c-4e31-f3ac-bd9877c59c3d"
      },
      "source": [
        "train_log.dropna(inplace = True)\n",
        "test_log.dropna(inplace = True)\n",
        "\n",
        "test_stationarity(train_log)"
      ],
      "execution_count": 49,
      "outputs": [
        {
          "output_type": "display_data",
          "data": {
            "image/png": "[encoded data removed]",
            "text/plain": [
              "<Figure size 720x576 with 1 Axes>"
            ]
          },
          "metadata": {
            "tags": [],
            "needs_background": "light"
          }
        },
        {
          "output_type": "stream",
          "text": [
            "Results of dickey fuller test\n",
            "ADF Test Statistic : -0.5063496560053629\n",
            "p-value : 0.8907714361315964\n",
            "#Lags Used : 6\n",
            "Number of Observations Used : 993\n",
            "Weak evidence against null hypothesis, time series is non-stationary \n"
          ],
          "name": "stdout"
        }
      ]
    },
    {
      "cell_type": "code",
      "metadata": {
        "colab": {
          "base_uri": "https://localhost:8080/",
          "height": 635
        },
        "id": "zEwJ4kIhWzzG",
        "outputId": "2ad13df1-b93b-46cc-c525-55e37e6f8f05"
      },
      "source": [
        "train_log_diff = train_log - mav\n",
        "train_log_diff.dropna(inplace = True)\n",
        "\n",
        "test_stationarity(train_log_diff)"
      ],
      "execution_count": 50,
      "outputs": [
        {
          "output_type": "display_data",
          "data": {
            "image/png": "[encoded data removed]",
            "text/plain": [
              "<Figure size 720x576 with 1 Axes>"
            ]
          },
          "metadata": {
            "tags": [],
            "needs_background": "light"
          }
        },
        {
          "output_type": "stream",
          "text": [
            "Results of dickey fuller test\n",
            "ADF Test Statistic : -6.541831419707252\n",
            "p-value : 9.30530878288461e-09\n",
            "#Lags Used : 3\n",
            "Number of Observations Used : 973\n",
            "Strong evidence against the null hypothesis(Ho), reject the null hypothesis. Data is stationary\n"
          ],
          "name": "stdout"
        }
      ]
    },
    {
      "cell_type": "markdown",
      "metadata": {
        "id": "Sc1W8OIjypdK"
      },
      "source": [
        "###STEP 5 - Auto Arima to make predictions"
      ]
    },
    {
      "cell_type": "code",
      "metadata": {
        "colab": {
          "base_uri": "https://localhost:8080/"
        },
        "id": "vAFxEz-JyfTx",
        "outputId": "7f2310a4-c6a8-4212-9810-2a908a1483a8"
      },
      "source": [
        "#Using auto arima to make predictions using log data\n",
        "from pmdarima import auto_arima\n",
        "model = auto_arima(train_log, trace = True, error_action = 'ignore', suppress_warnings = True)\n",
        "model.fit(train_log)\n",
        "predictions = model.predict(n_periods = len(test_df))\n",
        "predictions = pd.DataFrame(predictions,index = test_log.index,columns=['Prediction'])"
      ],
      "execution_count": 51,
      "outputs": [
        {
          "output_type": "stream",
          "text": [
            "Performing stepwise search to minimize aic\n",
            " ARIMA(2,1,2)(0,0,0)[0] intercept   : AIC=-6695.839, Time=1.46 sec\n",
            " ARIMA(0,1,0)(0,0,0)[0] intercept   : AIC=-6700.141, Time=0.20 sec\n",
            " ARIMA(1,1,0)(0,0,0)[0] intercept   : AIC=-6701.586, Time=0.24 sec\n",
            " ARIMA(0,1,1)(0,0,0)[0] intercept   : AIC=-6701.681, Time=0.17 sec\n",
            " ARIMA(0,1,0)(0,0,0)[0]             : AIC=-6701.204, Time=0.06 sec\n",
            " ARIMA(1,1,1)(0,0,0)[0] intercept   : AIC=-6700.257, Time=0.78 sec\n",
            " ARIMA(0,1,2)(0,0,0)[0] intercept   : AIC=-6699.799, Time=0.47 sec\n",
            " ARIMA(1,1,2)(0,0,0)[0] intercept   : AIC=-6697.783, Time=0.61 sec\n",
            " ARIMA(0,1,1)(0,0,0)[0]             : AIC=-6702.851, Time=0.30 sec\n",
            " ARIMA(1,1,1)(0,0,0)[0]             : AIC=-6701.366, Time=0.20 sec\n",
            " ARIMA(0,1,2)(0,0,0)[0]             : AIC=-6700.941, Time=0.16 sec\n",
            " ARIMA(1,1,0)(0,0,0)[0]             : AIC=-6702.758, Time=0.12 sec\n",
            " ARIMA(1,1,2)(0,0,0)[0]             : AIC=-6698.902, Time=0.30 sec\n",
            "\n",
            "Best model:  ARIMA(0,1,1)(0,0,0)[0]          \n",
            "Total fit time: 5.082 seconds\n"
          ],
          "name": "stdout"
        }
      ]
    },
    {
      "cell_type": "markdown",
      "metadata": {
        "id": "yFwEZBtlDRh2"
      },
      "source": [
        "###STEP 6 - Making Predictions"
      ]
    },
    {
      "cell_type": "code",
      "metadata": {
        "colab": {
          "base_uri": "https://localhost:8080/",
          "height": 314
        },
        "id": "_CCQe408ywe8",
        "outputId": "ad8549a6-3467-4431-e42c-d363c32318b0"
      },
      "source": [
        "plt.plot(train_log, label='Train')\n",
        "plt.plot(test_log, label='Test')\n",
        "plt.plot(predictions, label='Prediction')\n",
        "plt.title('BSESN Stock Price Prediction')\n",
        "plt.xlabel('Time')\n",
        "plt.ylabel('Actual Stock Price')"
      ],
      "execution_count": 52,
      "outputs": [
        {
          "output_type": "execute_result",
          "data": {
            "text/plain": [
              "Text(0, 0.5, 'Actual Stock Price')"
            ]
          },
          "metadata": {
            "tags": []
          },
          "execution_count": 52
        },
        {
          "output_type": "display_data",
          "data": {
            "image/png": "[encoded data removed]",
            "text/plain": [
              "<Figure size 432x288 with 1 Axes>"
            ]
          },
          "metadata": {
            "tags": [],
            "needs_background": "light"
          }
        }
      ]
    },
    {
      "cell_type": "code",
      "metadata": {
        "colab": {
          "base_uri": "https://localhost:8080/"
        },
        "id": "abrd8jN982Zd",
        "outputId": "b430d7a5-9b4c-4ebc-e72c-fcb0368e9aa9"
      },
      "source": [
        "# calculate root mean squared error\n",
        "\n",
        "testScore = np.sqrt(mean_squared_error(test_log, predictions))\n",
        "print(\"Root mean square error = \",testScore,\" RMSE\")"
      ],
      "execution_count": 53,
      "outputs": [
        {
          "output_type": "stream",
          "text": [
            "Root mean square error =  0.1121930327778079  RMSE\n"
          ],
          "name": "stdout"
        }
      ]
    },
    {
      "cell_type": "markdown",
      "metadata": {
        "id": "Jl7AdWRkI65M"
      },
      "source": [
        "## Hybrid model for Numerical and Textual Analysis\n",
        "###STEP 1 - Importing the Dataset"
      ]
    },
    {
      "cell_type": "code",
      "metadata": {
        "colab": {
          "base_uri": "https://localhost:8080/",
          "height": 481
        },
        "id": "qDRWSVThAMwH",
        "outputId": "98be6cf1-57a6-4b2d-9a4c-4d17323f0cf5"
      },
      "source": [
        "#Importing the Dataset\n",
        "columns = ['Date','Category','News']\n",
        "news_df = pd.read_csv('/content/drive/MyDrive/Colab Notebooks/india-news-headlines.csv', names = columns)\n",
        "news_df"
      ],
      "execution_count": 55,
      "outputs": [
        {
          "output_type": "stream",
          "text": [
            "/usr/local/lib/python3.7/dist-packages/IPython/core/interactiveshell.py:2718: DtypeWarning: Columns (0) have mixed types.Specify dtype option on import or set low_memory=False.\n",
            "  interactivity=interactivity, compiler=compiler, result=result)\n"
          ],
          "name": "stderr"
        },
        {
          "output_type": "execute_result",
          "data": {
            "text/html": [
              "<div>\n",
              "<style scoped>\n",
              "    .dataframe tbody tr th:only-of-type {\n",
              "        vertical-align: middle;\n",
              "    }\n",
              "\n",
              "    .dataframe tbody tr th {\n",
              "        vertical-align: top;\n",
              "    }\n",
              "\n",
              "    .dataframe thead th {\n",
              "        text-align: right;\n",
              "    }\n",
              "</style>\n",
              "<table border=\"1\" class=\"dataframe\">\n",
              "  <thead>\n",
              "    <tr style=\"text-align: right;\">\n",
              "      <th></th>\n",
              "      <th>Date</th>\n",
              "      <th>Category</th>\n",
              "      <th>News</th>\n",
              "    </tr>\n",
              "  </thead>\n",
              "  <tbody>\n",
              "    <tr>\n",
              "      <th>0</th>\n",
              "      <td>publish_date</td>\n",
              "      <td>headline_category</td>\n",
              "      <td>headline_text</td>\n",
              "    </tr>\n",
              "    <tr>\n",
              "      <th>1</th>\n",
              "      <td>20010102</td>\n",
              "      <td>unknown</td>\n",
              "      <td>Status quo will not be disturbed at Ayodhya; s...</td>\n",
              "    </tr>\n",
              "    <tr>\n",
              "      <th>2</th>\n",
              "      <td>20010102</td>\n",
              "      <td>unknown</td>\n",
              "      <td>Fissures in Hurriyat over Pak visit</td>\n",
              "    </tr>\n",
              "    <tr>\n",
              "      <th>3</th>\n",
              "      <td>20010102</td>\n",
              "      <td>unknown</td>\n",
              "      <td>America's unwanted heading for India?</td>\n",
              "    </tr>\n",
              "    <tr>\n",
              "      <th>4</th>\n",
              "      <td>20010102</td>\n",
              "      <td>unknown</td>\n",
              "      <td>For bigwigs; it is destination Goa</td>\n",
              "    </tr>\n",
              "    <tr>\n",
              "      <th>...</th>\n",
              "      <td>...</td>\n",
              "      <td>...</td>\n",
              "      <td>...</td>\n",
              "    </tr>\n",
              "    <tr>\n",
              "      <th>3424063</th>\n",
              "      <td>20201231</td>\n",
              "      <td>city.jodhpur</td>\n",
              "      <td>Covid-19: Despite dip in cases; Rajasthan amon...</td>\n",
              "    </tr>\n",
              "    <tr>\n",
              "      <th>3424064</th>\n",
              "      <td>20201231</td>\n",
              "      <td>city.udaipur</td>\n",
              "      <td>Covid-19: Despite dip in cases; Rajasthan amon...</td>\n",
              "    </tr>\n",
              "    <tr>\n",
              "      <th>3424065</th>\n",
              "      <td>20201231</td>\n",
              "      <td>city.ajmer</td>\n",
              "      <td>Covid-19: Despite dip in cases; Rajasthan amon...</td>\n",
              "    </tr>\n",
              "    <tr>\n",
              "      <th>3424066</th>\n",
              "      <td>20201231</td>\n",
              "      <td>removed</td>\n",
              "      <td>Govt extends deadline for use of FASTag till F...</td>\n",
              "    </tr>\n",
              "    <tr>\n",
              "      <th>3424067</th>\n",
              "      <td>20201231</td>\n",
              "      <td>entertainment.bengali.movies.news</td>\n",
              "      <td>Celebs plan to party safely and responsibly on...</td>\n",
              "    </tr>\n",
              "  </tbody>\n",
              "</table>\n",
              "<p>3424068 rows × 3 columns</p>\n",
              "</div>"
            ],
            "text/plain": [
              "                 Date  ...                                               News\n",
              "0        publish_date  ...                                      headline_text\n",
              "1            20010102  ...  Status quo will not be disturbed at Ayodhya; s...\n",
              "2            20010102  ...                Fissures in Hurriyat over Pak visit\n",
              "3            20010102  ...              America's unwanted heading for India?\n",
              "4            20010102  ...                 For bigwigs; it is destination Goa\n",
              "...               ...  ...                                                ...\n",
              "3424063      20201231  ...  Covid-19: Despite dip in cases; Rajasthan amon...\n",
              "3424064      20201231  ...  Covid-19: Despite dip in cases; Rajasthan amon...\n",
              "3424065      20201231  ...  Covid-19: Despite dip in cases; Rajasthan amon...\n",
              "3424066      20201231  ...  Govt extends deadline for use of FASTag till F...\n",
              "3424067      20201231  ...  Celebs plan to party safely and responsibly on...\n",
              "\n",
              "[3424068 rows x 3 columns]"
            ]
          },
          "metadata": {
            "tags": []
          },
          "execution_count": 55
        }
      ]
    },
    {
      "cell_type": "markdown",
      "metadata": {
        "id": "Ys-k19M-0Q6D"
      },
      "source": [
        "###STEP 2 - Text preprocessing"
      ]
    },
    {
      "cell_type": "code",
      "metadata": {
        "colab": {
          "base_uri": "https://localhost:8080/"
        },
        "id": "fXjVN2y_zsgE",
        "outputId": "30cfe1b0-c470-44c7-8bcc-3d766c7a0e41"
      },
      "source": [
        "news_df.drop(0, inplace=True)\n",
        "news_df.drop('Category', axis = 1, inplace=True)\n",
        "news_df.info()"
      ],
      "execution_count": 56,
      "outputs": [
        {
          "output_type": "stream",
          "text": [
            "<class 'pandas.core.frame.DataFrame'>\n",
            "Int64Index: 3424067 entries, 1 to 3424067\n",
            "Data columns (total 2 columns):\n",
            " #   Column  Dtype \n",
            "---  ------  ----- \n",
            " 0   Date    object\n",
            " 1   News    object\n",
            "dtypes: object(2)\n",
            "memory usage: 78.4+ MB\n"
          ],
          "name": "stdout"
        }
      ]
    },
    {
      "cell_type": "code",
      "metadata": {
        "colab": {
          "base_uri": "https://localhost:8080/",
          "height": 424
        },
        "id": "zNOeio6e0k9Q",
        "outputId": "e7d96d38-3a39-4e6a-c648-f62f7fe1bef4"
      },
      "source": [
        "# Restructuring the date format\n",
        "news_df['Date'] = pd.to_datetime(news_df['Date'],format= '%Y %m %d')\n",
        "news_df"
      ],
      "execution_count": 57,
      "outputs": [
        {
          "output_type": "execute_result",
          "data": {
            "text/html": [
              "<div>\n",
              "<style scoped>\n",
              "    .dataframe tbody tr th:only-of-type {\n",
              "        vertical-align: middle;\n",
              "    }\n",
              "\n",
              "    .dataframe tbody tr th {\n",
              "        vertical-align: top;\n",
              "    }\n",
              "\n",
              "    .dataframe thead th {\n",
              "        text-align: right;\n",
              "    }\n",
              "</style>\n",
              "<table border=\"1\" class=\"dataframe\">\n",
              "  <thead>\n",
              "    <tr style=\"text-align: right;\">\n",
              "      <th></th>\n",
              "      <th>Date</th>\n",
              "      <th>News</th>\n",
              "    </tr>\n",
              "  </thead>\n",
              "  <tbody>\n",
              "    <tr>\n",
              "      <th>1</th>\n",
              "      <td>2001-01-02 00:00:00.000000000</td>\n",
              "      <td>Status quo will not be disturbed at Ayodhya; s...</td>\n",
              "    </tr>\n",
              "    <tr>\n",
              "      <th>2</th>\n",
              "      <td>2001-01-02 00:00:00.000000000</td>\n",
              "      <td>Fissures in Hurriyat over Pak visit</td>\n",
              "    </tr>\n",
              "    <tr>\n",
              "      <th>3</th>\n",
              "      <td>2001-01-02 00:00:00.000000000</td>\n",
              "      <td>America's unwanted heading for India?</td>\n",
              "    </tr>\n",
              "    <tr>\n",
              "      <th>4</th>\n",
              "      <td>2001-01-02 00:00:00.000000000</td>\n",
              "      <td>For bigwigs; it is destination Goa</td>\n",
              "    </tr>\n",
              "    <tr>\n",
              "      <th>5</th>\n",
              "      <td>2001-01-02 00:00:00.000000000</td>\n",
              "      <td>Extra buses to clear tourist traffic</td>\n",
              "    </tr>\n",
              "    <tr>\n",
              "      <th>...</th>\n",
              "      <td>...</td>\n",
              "      <td>...</td>\n",
              "    </tr>\n",
              "    <tr>\n",
              "      <th>3424063</th>\n",
              "      <td>1970-01-01 00:00:00.020201231</td>\n",
              "      <td>Covid-19: Despite dip in cases; Rajasthan amon...</td>\n",
              "    </tr>\n",
              "    <tr>\n",
              "      <th>3424064</th>\n",
              "      <td>1970-01-01 00:00:00.020201231</td>\n",
              "      <td>Covid-19: Despite dip in cases; Rajasthan amon...</td>\n",
              "    </tr>\n",
              "    <tr>\n",
              "      <th>3424065</th>\n",
              "      <td>1970-01-01 00:00:00.020201231</td>\n",
              "      <td>Covid-19: Despite dip in cases; Rajasthan amon...</td>\n",
              "    </tr>\n",
              "    <tr>\n",
              "      <th>3424066</th>\n",
              "      <td>1970-01-01 00:00:00.020201231</td>\n",
              "      <td>Govt extends deadline for use of FASTag till F...</td>\n",
              "    </tr>\n",
              "    <tr>\n",
              "      <th>3424067</th>\n",
              "      <td>1970-01-01 00:00:00.020201231</td>\n",
              "      <td>Celebs plan to party safely and responsibly on...</td>\n",
              "    </tr>\n",
              "  </tbody>\n",
              "</table>\n",
              "<p>3424067 rows × 2 columns</p>\n",
              "</div>"
            ],
            "text/plain": [
              "                                 Date                                               News\n",
              "1       2001-01-02 00:00:00.000000000  Status quo will not be disturbed at Ayodhya; s...\n",
              "2       2001-01-02 00:00:00.000000000                Fissures in Hurriyat over Pak visit\n",
              "3       2001-01-02 00:00:00.000000000              America's unwanted heading for India?\n",
              "4       2001-01-02 00:00:00.000000000                 For bigwigs; it is destination Goa\n",
              "5       2001-01-02 00:00:00.000000000               Extra buses to clear tourist traffic\n",
              "...                               ...                                                ...\n",
              "3424063 1970-01-01 00:00:00.020201231  Covid-19: Despite dip in cases; Rajasthan amon...\n",
              "3424064 1970-01-01 00:00:00.020201231  Covid-19: Despite dip in cases; Rajasthan amon...\n",
              "3424065 1970-01-01 00:00:00.020201231  Covid-19: Despite dip in cases; Rajasthan amon...\n",
              "3424066 1970-01-01 00:00:00.020201231  Govt extends deadline for use of FASTag till F...\n",
              "3424067 1970-01-01 00:00:00.020201231  Celebs plan to party safely and responsibly on...\n",
              "\n",
              "[3424067 rows x 2 columns]"
            ]
          },
          "metadata": {
            "tags": []
          },
          "execution_count": 57
        }
      ]
    },
    {
      "cell_type": "code",
      "metadata": {
        "colab": {
          "base_uri": "https://localhost:8080/",
          "height": 424
        },
        "id": "oWfJJFKR0puS",
        "outputId": "92a8cd68-097d-4a23-8b68-8014cdb575c1"
      },
      "source": [
        "#Grouping the headlines for each day\n",
        "news_df['News'] = news_df.groupby(['Date']).transform(lambda x : ' '.join(x)) \n",
        "news_df = news_df.drop_duplicates() \n",
        "news_df.reset_index(inplace = True, drop = True)\n",
        "news_df"
      ],
      "execution_count": 58,
      "outputs": [
        {
          "output_type": "execute_result",
          "data": {
            "text/html": [
              "<div>\n",
              "<style scoped>\n",
              "    .dataframe tbody tr th:only-of-type {\n",
              "        vertical-align: middle;\n",
              "    }\n",
              "\n",
              "    .dataframe tbody tr th {\n",
              "        vertical-align: top;\n",
              "    }\n",
              "\n",
              "    .dataframe thead th {\n",
              "        text-align: right;\n",
              "    }\n",
              "</style>\n",
              "<table border=\"1\" class=\"dataframe\">\n",
              "  <thead>\n",
              "    <tr style=\"text-align: right;\">\n",
              "      <th></th>\n",
              "      <th>Date</th>\n",
              "      <th>News</th>\n",
              "    </tr>\n",
              "  </thead>\n",
              "  <tbody>\n",
              "    <tr>\n",
              "      <th>0</th>\n",
              "      <td>2001-01-02 00:00:00.000000000</td>\n",
              "      <td>Status quo will not be disturbed at Ayodhya; s...</td>\n",
              "    </tr>\n",
              "    <tr>\n",
              "      <th>1</th>\n",
              "      <td>2001-01-03 00:00:00.000000000</td>\n",
              "      <td>Powerless north India gropes in the dark Think...</td>\n",
              "    </tr>\n",
              "    <tr>\n",
              "      <th>2</th>\n",
              "      <td>2001-01-04 00:00:00.000000000</td>\n",
              "      <td>The string that pulled Stephen Hawking to Indi...</td>\n",
              "    </tr>\n",
              "    <tr>\n",
              "      <th>3</th>\n",
              "      <td>2001-01-05 00:00:00.000000000</td>\n",
              "      <td>Light combat craft takes India into club class...</td>\n",
              "    </tr>\n",
              "    <tr>\n",
              "      <th>4</th>\n",
              "      <td>2001-01-06 00:00:00.000000000</td>\n",
              "      <td>Light combat craft takes India into club class...</td>\n",
              "    </tr>\n",
              "    <tr>\n",
              "      <th>...</th>\n",
              "      <td>...</td>\n",
              "      <td>...</td>\n",
              "    </tr>\n",
              "    <tr>\n",
              "      <th>7258</th>\n",
              "      <td>1970-01-01 00:00:00.020201227</td>\n",
              "      <td>#BigInterview! Dhritiman Chatterjee: Nobody da...</td>\n",
              "    </tr>\n",
              "    <tr>\n",
              "      <th>7259</th>\n",
              "      <td>1970-01-01 00:00:00.020201228</td>\n",
              "      <td>Horoscope Today; 28 December 2020: Check astro...</td>\n",
              "    </tr>\n",
              "    <tr>\n",
              "      <th>7260</th>\n",
              "      <td>1970-01-01 00:00:00.020201229</td>\n",
              "      <td>Man recovers charred remains of 'thief' from h...</td>\n",
              "    </tr>\n",
              "    <tr>\n",
              "      <th>7261</th>\n",
              "      <td>1970-01-01 00:00:00.020201230</td>\n",
              "      <td>Numerology Readings 30 December 2020: Predicti...</td>\n",
              "    </tr>\n",
              "    <tr>\n",
              "      <th>7262</th>\n",
              "      <td>1970-01-01 00:00:00.020201231</td>\n",
              "      <td>Horoscope Today; 31 December 2020: Check astro...</td>\n",
              "    </tr>\n",
              "  </tbody>\n",
              "</table>\n",
              "<p>7263 rows × 2 columns</p>\n",
              "</div>"
            ],
            "text/plain": [
              "                              Date                                               News\n",
              "0    2001-01-02 00:00:00.000000000  Status quo will not be disturbed at Ayodhya; s...\n",
              "1    2001-01-03 00:00:00.000000000  Powerless north India gropes in the dark Think...\n",
              "2    2001-01-04 00:00:00.000000000  The string that pulled Stephen Hawking to Indi...\n",
              "3    2001-01-05 00:00:00.000000000  Light combat craft takes India into club class...\n",
              "4    2001-01-06 00:00:00.000000000  Light combat craft takes India into club class...\n",
              "...                            ...                                                ...\n",
              "7258 1970-01-01 00:00:00.020201227  #BigInterview! Dhritiman Chatterjee: Nobody da...\n",
              "7259 1970-01-01 00:00:00.020201228  Horoscope Today; 28 December 2020: Check astro...\n",
              "7260 1970-01-01 00:00:00.020201229  Man recovers charred remains of 'thief' from h...\n",
              "7261 1970-01-01 00:00:00.020201230  Numerology Readings 30 December 2020: Predicti...\n",
              "7262 1970-01-01 00:00:00.020201231  Horoscope Today; 31 December 2020: Check astro...\n",
              "\n",
              "[7263 rows x 2 columns]"
            ]
          },
          "metadata": {
            "tags": []
          },
          "execution_count": 58
        }
      ]
    },
    {
      "cell_type": "code",
      "metadata": {
        "colab": {
          "base_uri": "https://localhost:8080/"
        },
        "id": "Ra3S6I6j0v-i",
        "outputId": "2b032bcd-8d5a-487c-b749-a700ab75863d"
      },
      "source": [
        "news_df['News']"
      ],
      "execution_count": 59,
      "outputs": [
        {
          "output_type": "execute_result",
          "data": {
            "text/plain": [
              "0       Status quo will not be disturbed at Ayodhya; s...\n",
              "1       Powerless north India gropes in the dark Think...\n",
              "2       The string that pulled Stephen Hawking to Indi...\n",
              "3       Light combat craft takes India into club class...\n",
              "4       Light combat craft takes India into club class...\n",
              "                              ...                        \n",
              "7258    #BigInterview! Dhritiman Chatterjee: Nobody da...\n",
              "7259    Horoscope Today; 28 December 2020: Check astro...\n",
              "7260    Man recovers charred remains of 'thief' from h...\n",
              "7261    Numerology Readings 30 December 2020: Predicti...\n",
              "7262    Horoscope Today; 31 December 2020: Check astro...\n",
              "Name: News, Length: 7263, dtype: object"
            ]
          },
          "metadata": {
            "tags": []
          },
          "execution_count": 59
        }
      ]
    },
    {
      "cell_type": "markdown",
      "metadata": {
        "id": "AdfF2HO00zdc"
      },
      "source": [
        "###STEP 3 - Adding subjectivity and polarity Scores"
      ]
    },
    {
      "cell_type": "code",
      "metadata": {
        "id": "iOakR6lm0xrV"
      },
      "source": [
        "#Functions to get the subjectivity and polarity\n",
        "def getSubjectivity(text):\n",
        "  return TextBlob(text).sentiment.subjectivity\n",
        "\n",
        "def getPolarity(text):\n",
        "  return  TextBlob(text).sentiment.polarity"
      ],
      "execution_count": 60,
      "outputs": []
    },
    {
      "cell_type": "code",
      "metadata": {
        "colab": {
          "base_uri": "https://localhost:8080/",
          "height": 647
        },
        "id": "1zhZBvxx1B8E",
        "outputId": "4d98e21c-a88f-4816-e3cd-8962017e017d"
      },
      "source": [
        "#Adding subjectivity and polarity columns\n",
        "news_df['Subjectivity'] = news_df['News'].apply(getSubjectivity)\n",
        "news_df['Polarity'] = news_df['News'].apply(getPolarity)\n",
        "news_df"
      ],
      "execution_count": 61,
      "outputs": [
        {
          "output_type": "stream",
          "text": [
            "/usr/local/lib/python3.7/dist-packages/ipykernel_launcher.py:2: SettingWithCopyWarning: \n",
            "A value is trying to be set on a copy of a slice from a DataFrame.\n",
            "Try using .loc[row_indexer,col_indexer] = value instead\n",
            "\n",
            "See the caveats in the documentation: https://pandas.pydata.org/pandas-docs/stable/user_guide/indexing.html#returning-a-view-versus-a-copy\n",
            "  \n",
            "/usr/local/lib/python3.7/dist-packages/ipykernel_launcher.py:3: SettingWithCopyWarning: \n",
            "A value is trying to be set on a copy of a slice from a DataFrame.\n",
            "Try using .loc[row_indexer,col_indexer] = value instead\n",
            "\n",
            "See the caveats in the documentation: https://pandas.pydata.org/pandas-docs/stable/user_guide/indexing.html#returning-a-view-versus-a-copy\n",
            "  This is separate from the ipykernel package so we can avoid doing imports until\n"
          ],
          "name": "stderr"
        },
        {
          "output_type": "execute_result",
          "data": {
            "text/html": [
              "<div>\n",
              "<style scoped>\n",
              "    .dataframe tbody tr th:only-of-type {\n",
              "        vertical-align: middle;\n",
              "    }\n",
              "\n",
              "    .dataframe tbody tr th {\n",
              "        vertical-align: top;\n",
              "    }\n",
              "\n",
              "    .dataframe thead th {\n",
              "        text-align: right;\n",
              "    }\n",
              "</style>\n",
              "<table border=\"1\" class=\"dataframe\">\n",
              "  <thead>\n",
              "    <tr style=\"text-align: right;\">\n",
              "      <th></th>\n",
              "      <th>Date</th>\n",
              "      <th>News</th>\n",
              "      <th>Subjectivity</th>\n",
              "      <th>Polarity</th>\n",
              "    </tr>\n",
              "  </thead>\n",
              "  <tbody>\n",
              "    <tr>\n",
              "      <th>0</th>\n",
              "      <td>2001-01-02 00:00:00.000000000</td>\n",
              "      <td>Status quo will not be disturbed at Ayodhya; s...</td>\n",
              "      <td>0.282333</td>\n",
              "      <td>0.151333</td>\n",
              "    </tr>\n",
              "    <tr>\n",
              "      <th>1</th>\n",
              "      <td>2001-01-03 00:00:00.000000000</td>\n",
              "      <td>Powerless north India gropes in the dark Think...</td>\n",
              "      <td>0.407692</td>\n",
              "      <td>0.088462</td>\n",
              "    </tr>\n",
              "    <tr>\n",
              "      <th>2</th>\n",
              "      <td>2001-01-04 00:00:00.000000000</td>\n",
              "      <td>The string that pulled Stephen Hawking to Indi...</td>\n",
              "      <td>0.446847</td>\n",
              "      <td>0.087961</td>\n",
              "    </tr>\n",
              "    <tr>\n",
              "      <th>3</th>\n",
              "      <td>2001-01-05 00:00:00.000000000</td>\n",
              "      <td>Light combat craft takes India into club class...</td>\n",
              "      <td>0.476612</td>\n",
              "      <td>0.262024</td>\n",
              "    </tr>\n",
              "    <tr>\n",
              "      <th>4</th>\n",
              "      <td>2001-01-06 00:00:00.000000000</td>\n",
              "      <td>Light combat craft takes India into club class...</td>\n",
              "      <td>0.439394</td>\n",
              "      <td>0.248485</td>\n",
              "    </tr>\n",
              "    <tr>\n",
              "      <th>...</th>\n",
              "      <td>...</td>\n",
              "      <td>...</td>\n",
              "      <td>...</td>\n",
              "      <td>...</td>\n",
              "    </tr>\n",
              "    <tr>\n",
              "      <th>7258</th>\n",
              "      <td>1970-01-01 00:00:00.020201227</td>\n",
              "      <td>#BigInterview! Dhritiman Chatterjee: Nobody da...</td>\n",
              "      <td>0.395808</td>\n",
              "      <td>0.035886</td>\n",
              "    </tr>\n",
              "    <tr>\n",
              "      <th>7259</th>\n",
              "      <td>1970-01-01 00:00:00.020201228</td>\n",
              "      <td>Horoscope Today; 28 December 2020: Check astro...</td>\n",
              "      <td>0.412945</td>\n",
              "      <td>0.070517</td>\n",
              "    </tr>\n",
              "    <tr>\n",
              "      <th>7260</th>\n",
              "      <td>1970-01-01 00:00:00.020201229</td>\n",
              "      <td>Man recovers charred remains of 'thief' from h...</td>\n",
              "      <td>0.424021</td>\n",
              "      <td>0.061210</td>\n",
              "    </tr>\n",
              "    <tr>\n",
              "      <th>7261</th>\n",
              "      <td>1970-01-01 00:00:00.020201230</td>\n",
              "      <td>Numerology Readings 30 December 2020: Predicti...</td>\n",
              "      <td>0.441660</td>\n",
              "      <td>0.043496</td>\n",
              "    </tr>\n",
              "    <tr>\n",
              "      <th>7262</th>\n",
              "      <td>1970-01-01 00:00:00.020201231</td>\n",
              "      <td>Horoscope Today; 31 December 2020: Check astro...</td>\n",
              "      <td>0.406220</td>\n",
              "      <td>0.091373</td>\n",
              "    </tr>\n",
              "  </tbody>\n",
              "</table>\n",
              "<p>7263 rows × 4 columns</p>\n",
              "</div>"
            ],
            "text/plain": [
              "                              Date  ...  Polarity\n",
              "0    2001-01-02 00:00:00.000000000  ...  0.151333\n",
              "1    2001-01-03 00:00:00.000000000  ...  0.088462\n",
              "2    2001-01-04 00:00:00.000000000  ...  0.087961\n",
              "3    2001-01-05 00:00:00.000000000  ...  0.262024\n",
              "4    2001-01-06 00:00:00.000000000  ...  0.248485\n",
              "...                            ...  ...       ...\n",
              "7258 1970-01-01 00:00:00.020201227  ...  0.035886\n",
              "7259 1970-01-01 00:00:00.020201228  ...  0.070517\n",
              "7260 1970-01-01 00:00:00.020201229  ...  0.061210\n",
              "7261 1970-01-01 00:00:00.020201230  ...  0.043496\n",
              "7262 1970-01-01 00:00:00.020201231  ...  0.091373\n",
              "\n",
              "[7263 rows x 4 columns]"
            ]
          },
          "metadata": {
            "tags": []
          },
          "execution_count": 61
        }
      ]
    },
    {
      "cell_type": "markdown",
      "metadata": {
        "id": "YuSPOvbR1G48"
      },
      "source": [
        "###STEP 4 - Visualizing the polarity and Subjectivity scores"
      ]
    },
    {
      "cell_type": "code",
      "metadata": {
        "colab": {
          "base_uri": "https://localhost:8080/",
          "height": 374
        },
        "id": "egKzlhhW1EuR",
        "outputId": "7c703efa-49a2-450f-8e54-47a658570188"
      },
      "source": [
        "plt.figure(figsize = (10,6))\n",
        "news_df['Polarity'].hist(color = 'red');"
      ],
      "execution_count": 62,
      "outputs": [
        {
          "output_type": "display_data",
          "data": {
            "image/png": "[encoded data removed]",
            "text/plain": [
              "<Figure size 720x432 with 1 Axes>"
            ]
          },
          "metadata": {
            "tags": [],
            "needs_background": "light"
          }
        }
      ]
    },
    {
      "cell_type": "code",
      "metadata": {
        "colab": {
          "base_uri": "https://localhost:8080/",
          "height": 374
        },
        "id": "V9TaiAbU1Tdw",
        "outputId": "f4b63544-3c53-48ab-afb4-6cb47cf2ab02"
      },
      "source": [
        "plt.figure(figsize = (10,6))\n",
        "news_df['Subjectivity'].hist(color = 'green');"
      ],
      "execution_count": 63,
      "outputs": [
        {
          "output_type": "display_data",
          "data": {
            "image/png": "[encoded data removed]",
            "text/plain": [
              "<Figure size 720x432 with 1 Axes>"
            ]
          },
          "metadata": {
            "tags": [],
            "needs_background": "light"
          }
        }
      ]
    },
    {
      "cell_type": "markdown",
      "metadata": {
        "id": "Az_DryyB1X4C"
      },
      "source": [
        "###STEP 5 - Performing Sentiment Analysis over the news Headlines"
      ]
    },
    {
      "cell_type": "code",
      "metadata": {
        "id": "5bq2Dibg1gPv"
      },
      "source": [
        "#Adding sentiment score to news\n",
        "sia = SentimentIntensityAnalyzer()\n",
        "\n",
        "news_df['Compound'] = [sia.polarity_scores(v)['compound'] for v in news_df['News']]\n",
        "news_df['Negative'] = [sia.polarity_scores(v)['neg'] for v in news_df['News']]\n",
        "news_df['Neutral'] = [sia.polarity_scores(v)['neu'] for v in news_df['News']]\n",
        "news_df['Positive'] = [sia.polarity_scores(v)['pos'] for v in news_df['News']]\n",
        "news_df"
      ],
      "execution_count": null,
      "outputs": []
    },
    {
      "cell_type": "markdown",
      "metadata": {
        "id": "nUgOm7kJ1ob3"
      },
      "source": [
        "###STEP 6 - Merging the Historical and Textual data"
      ]
    },
    {
      "cell_type": "code",
      "metadata": {
        "id": "wNWQ_rjQ1w3l"
      },
      "source": [
        "df_merge = pd.merge(bsesn_df, news_df, how='inner', on='Date')\n",
        "df_merge"
      ],
      "execution_count": null,
      "outputs": []
    },
    {
      "cell_type": "markdown",
      "metadata": {
        "id": "CveTi7FL7CoO"
      },
      "source": [
        "###STEP 7 - Create Dataset for Model Training"
      ]
    },
    {
      "cell_type": "code",
      "metadata": {
        "id": "MJI4NsZK2lhi"
      },
      "source": [
        "df = df_merge[['Close','Subjectivity', 'Polarity', 'Compound', 'Negative', 'Neutral' ,'Positive']]\n",
        "df"
      ],
      "execution_count": null,
      "outputs": []
    },
    {
      "cell_type": "markdown",
      "metadata": {
        "id": "AoHsrzsD7aJv"
      },
      "source": [
        "###STEP 8 - Normalize Data"
      ]
    },
    {
      "cell_type": "code",
      "metadata": {
        "id": "HOss2vTg4BF6"
      },
      "source": [
        "from sklearn.preprocessing import MinMaxScaler\n",
        "sc = MinMaxScaler()\n",
        "new_df = pd.DataFrame(sc.fit_transform(df))\n",
        "new_df.columns = df.columns\n",
        "new_df.index = df.index\n",
        "new_df.head()"
      ],
      "execution_count": null,
      "outputs": []
    },
    {
      "cell_type": "code",
      "metadata": {
        "id": "auhSnHJf4D5C"
      },
      "source": [
        "X = new_df.drop('Close', axis=1)\n",
        "y =new_df['Close']\n",
        "y.head()"
      ],
      "execution_count": null,
      "outputs": []
    },
    {
      "cell_type": "code",
      "metadata": {
        "id": "ubJCzddf4OBH"
      },
      "source": [
        "X.head()"
      ],
      "execution_count": null,
      "outputs": []
    },
    {
      "cell_type": "markdown",
      "metadata": {
        "id": "F61uM02q8EYL"
      },
      "source": [
        "###STEP 9 - Split the Dataset into Train & Test Data"
      ]
    },
    {
      "cell_type": "code",
      "metadata": {
        "id": "so_qR6qI4R7s"
      },
      "source": [
        "x_train, x_test, y_train, y_test = train_test_split(X, y, test_size=0.2, random_state = 0)\n",
        "x_train.shape"
      ],
      "execution_count": null,
      "outputs": []
    },
    {
      "cell_type": "code",
      "metadata": {
        "id": "NEIsDNo44Xd3"
      },
      "source": [
        "x_train[:10]"
      ],
      "execution_count": null,
      "outputs": []
    },
    {
      "cell_type": "markdown",
      "metadata": {
        "id": "anwWhA_A8cE9"
      },
      "source": [
        "###STEP 10 - Machine Learning Models"
      ]
    },
    {
      "cell_type": "markdown",
      "metadata": {
        "id": "kSC9no6--gsT"
      },
      "source": [
        "####Random Forest Regressor"
      ]
    },
    {
      "cell_type": "code",
      "metadata": {
        "id": "L1TVzYkd4kvd"
      },
      "source": [
        "rf = RandomForestRegressor()\n",
        "rf.fit(x_train, y_train)\n",
        "prediction=rf.predict(x_test)"
      ],
      "execution_count": null,
      "outputs": []
    },
    {
      "cell_type": "code",
      "metadata": {
        "id": "pmKEkEdr4pMY"
      },
      "source": [
        "print(prediction[:10])\n",
        "print(y_test[:10])"
      ],
      "execution_count": null,
      "outputs": []
    },
    {
      "cell_type": "code",
      "metadata": {
        "id": "SN5L4e07Gzw0"
      },
      "source": [
        "#mean square error\n",
        "rfr_msr = mean_squared_error(predictions,y_test))\n",
        "rfr_msr"
      ],
      "execution_count": null,
      "outputs": []
    },
    {
      "cell_type": "code",
      "metadata": {
        "id": "MA_AQN2yCssi"
      },
      "source": [
        "#accuracy score\n",
        "from sklearn.metrics import accuracy_score\n",
        "rfr_acc = accuracy_score(y_test, predictions)\n",
        "print(rfr_acc)"
      ],
      "execution_count": null,
      "outputs": []
    },
    {
      "cell_type": "markdown",
      "metadata": {
        "id": "_mgQ2tkz-3Zg"
      },
      "source": [
        "####AdaBoost Regressor"
      ]
    },
    {
      "cell_type": "code",
      "metadata": {
        "id": "UUhygNoh46iW"
      },
      "source": [
        "adb = AdaBoostRegressor()\n",
        "adb.fit(x_train, y_train)\n",
        "predictions = adb.predict(x_test)"
      ],
      "execution_count": null,
      "outputs": []
    },
    {
      "cell_type": "code",
      "metadata": {
        "id": "8W3nAwWu5Nlq"
      },
      "source": [
        "#mean square error\n",
        "abr_msr = mean_squared_error(predictions,y_test))\n",
        "abr_msr"
      ],
      "execution_count": null,
      "outputs": []
    },
    {
      "cell_type": "code",
      "metadata": {
        "id": "VLRWsM5aERqe"
      },
      "source": [
        "#accuracy score\n",
        "abr_acc = accuracy_score(y_test, predictions)\n",
        "print(abr_acc)"
      ],
      "execution_count": null,
      "outputs": []
    },
    {
      "cell_type": "markdown",
      "metadata": {
        "id": "jwifXQKU_Fr8"
      },
      "source": [
        "####Decision Tree Regressor"
      ]
    },
    {
      "cell_type": "code",
      "metadata": {
        "id": "0893P-Ur5ZCZ"
      },
      "source": [
        "from sklearn.tree import DecisionTreeRegressor\n",
        "dec_tree = DecisionTreeRegressor()\n",
        "dec_tree.fit(x_train, y_train)\n",
        "predictions = dec_tree.predict(x_test)"
      ],
      "execution_count": null,
      "outputs": []
    },
    {
      "cell_type": "code",
      "metadata": {
        "id": "m52MnQ3V5cfK"
      },
      "source": [
        "print(predictions[:10])\n",
        "print(y_test[:10])"
      ],
      "execution_count": null,
      "outputs": []
    },
    {
      "cell_type": "code",
      "metadata": {
        "id": "iL0F4DwwGVTU"
      },
      "source": [
        "#mean square error\n",
        "dtr_msr = mean_squared_error(predictions,y_test))\n",
        "dtr_msr"
      ],
      "execution_count": null,
      "outputs": []
    },
    {
      "cell_type": "code",
      "metadata": {
        "id": "mvU30x1JEcG2"
      },
      "source": [
        "#accuracy score\n",
        "dtr_acc = accuracy_score(y_test, predictions)\n",
        "print(dtr_acc)"
      ],
      "execution_count": null,
      "outputs": []
    },
    {
      "cell_type": "markdown",
      "metadata": {
        "id": "9ef2d2Y6_Tbl"
      },
      "source": [
        "####LGBM Regressor"
      ]
    },
    {
      "cell_type": "code",
      "metadata": {
        "id": "Oz-e9nc45ihk"
      },
      "source": [
        "lgb = lightgbm.LGBMRegressor()\n",
        "lgb.fit(x_train, y_train)"
      ],
      "execution_count": null,
      "outputs": []
    },
    {
      "cell_type": "code",
      "metadata": {
        "id": "NMyU3Hs15oUU"
      },
      "source": [
        "predictions = lgb.predict(x_test)"
      ],
      "execution_count": null,
      "outputs": []
    },
    {
      "cell_type": "code",
      "metadata": {
        "id": "cmhzrjn7F58t"
      },
      "source": [
        "#mean square error\n",
        "lgbm_msr = mean_squared_error(predictions,y_test))\n",
        "lgbm_msr"
      ],
      "execution_count": null,
      "outputs": []
    },
    {
      "cell_type": "code",
      "metadata": {
        "id": "TruzZo1fEyeo"
      },
      "source": [
        "#accuracy score\n",
        "lgbm_acc = accuracy_score(y_test, predictions)\n",
        "print(lgbm_acc)"
      ],
      "execution_count": null,
      "outputs": []
    },
    {
      "cell_type": "markdown",
      "metadata": {
        "id": "IEicYrHr_lsz"
      },
      "source": [
        "####XGB Regressor"
      ]
    },
    {
      "cell_type": "code",
      "metadata": {
        "id": "TVKVz0Op5s0M"
      },
      "source": [
        "xgb = xgboost.XGBRegressor()\n",
        "xgb.fit(x_train, y_train)"
      ],
      "execution_count": null,
      "outputs": []
    },
    {
      "cell_type": "code",
      "metadata": {
        "id": "6LVm30Oh5xUZ"
      },
      "source": [
        "predictions = xgb.predict(x_test)"
      ],
      "execution_count": null,
      "outputs": []
    },
    {
      "cell_type": "code",
      "metadata": {
        "id": "2eM7nMl4FSeC"
      },
      "source": [
        "#mean square error\n",
        "xgbr_msr = mean_squared_error(predictions,y_test))\n",
        "xgbr_msr"
      ],
      "execution_count": null,
      "outputs": []
    },
    {
      "cell_type": "code",
      "metadata": {
        "id": "rYlRbNJnE5Y6"
      },
      "source": [
        "#accuracy score\n",
        "xgbr_acc = accuracy_score(y_test, predictions)\n",
        "print(xgbr_acc)"
      ],
      "execution_count": null,
      "outputs": []
    }
  ]
}