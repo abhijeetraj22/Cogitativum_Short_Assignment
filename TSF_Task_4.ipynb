{
  "nbformat": 4,
  "nbformat_minor": 0,
  "metadata": {
    "colab": {
      "name": "TSF_Task-4.ipynb",
      "provenance": [],
      "mount_file_id": "1gOHKXaTCMW7DCG6mDLtGXO0UATa1hUcw",
      "authorship_tag": "ABX9TyPW14J20x3UBdlQwQhDaVBj",
      "include_colab_link": true
    },
    "kernelspec": {
      "name": "python3",
      "display_name": "Python 3"
    }
  },
  "cells": [
    {
      "cell_type": "markdown",
      "metadata": {
        "id": "view-in-github",
        "colab_type": "text"
      },
      "source": [
        "<a href=\"https://colab.research.google.com/github/abhijeetraj22/TSF-GRIP_Tasks/blob/main/TSF_Task_4.ipynb\" target=\"_parent\"><img src=\"https://colab.research.google.com/assets/colab-badge.svg\" alt=\"Open In Colab\"/></a>"
      ]
    },
    {
      "cell_type": "markdown",
      "metadata": {
        "id": "9zBe17GPLJ7W"
      },
      "source": [
        "#GRIP The Sparks Foundation(TSF)\r\n",
        "\r\n",
        "##Task - 4 Exploratory Data Analysis - Terrorism\r\n",
        "\r\n",
        "#####In this task, As a security/defense analyst, I tried to find out the hot zone of terrorism.\r\n",
        "\r\n",
        "\r\n",
        "##Steps -\r\n",
        " - Step 1 - Importing the Library\r\n",
        " - Step 2 - Importing the Dataset\r\n",
        " - Step 3 - Data Exploration and Cleaning\r\n",
        " - Step 4 - Visualizing the \r\n",
        " - Conclusion\r\n",
        "\r\n",
        "####Created by - Abhijeet Raj Modanwal\r\n"
      ]
    },
    {
      "cell_type": "markdown",
      "metadata": {
        "id": "VzBLdaohPEhS"
      },
      "source": [
        "##STEP 1 - Importing the Library\r\n",
        "\r\n",
        "In this step, we will import the Libraries.\r\n"
      ]
    },
    {
      "cell_type": "code",
      "metadata": {
        "id": "WqJezwtIKqQN"
      },
      "source": [
        "# Importing the libraries\r\n",
        "import numpy as np\r\n",
        "import matplotlib.pyplot as plt\r\n",
        "%matplotlib inline\r\n",
        "import pandas as pd\r\n"
      ],
      "execution_count": null,
      "outputs": []
    },
    {
      "cell_type": "markdown",
      "metadata": {
        "id": "uRwSfsPuPmXN"
      },
      "source": [
        "\r\n",
        "##STEP 2 - Importing the Dataset"
      ]
    },
    {
      "cell_type": "code",
      "metadata": {
        "id": "yrL-N8oEP7Eo"
      },
      "source": [
        "gt_df = pd.read_csv(\"globalterrorismdb_0718dist.csv\", low_memory=False, encoding='latin-1')\r\n"
      ],
      "execution_count": null,
      "outputs": []
    },
    {
      "cell_type": "code",
      "metadata": {
        "id": "F7DeVDcHQeFr"
      },
      "source": [
        "#first five rows of dataset\r\n",
        "gt_df.head()"
      ],
      "execution_count": null,
      "outputs": []
    },
    {
      "cell_type": "code",
      "metadata": {
        "id": "BUDKWA2XQmtD"
      },
      "source": [
        "#last five rows of dataset\r\n",
        "gt_df.tail()"
      ],
      "execution_count": null,
      "outputs": []
    },
    {
      "cell_type": "markdown",
      "metadata": {
        "id": "_PtvjdkRbZsU"
      },
      "source": [
        "##STEP 3 - Data Exploration and Cleaning"
      ]
    },
    {
      "cell_type": "code",
      "metadata": {
        "id": "ztzzUcrNQuQe"
      },
      "source": [
        "#shape of dataset\r\n",
        "gt_df.shape"
      ],
      "execution_count": null,
      "outputs": []
    },
    {
      "cell_type": "code",
      "metadata": {
        "id": "MxjtU_YiQzY7"
      },
      "source": [
        "#columns names of the dataset \r\n",
        "gt_df.columns"
      ],
      "execution_count": null,
      "outputs": []
    },
    {
      "cell_type": "code",
      "metadata": {
        "id": "y5_HHIP9Q_BQ"
      },
      "source": [
        "#info of the dataset \r\n",
        "gt_df.info()"
      ],
      "execution_count": null,
      "outputs": []
    },
    {
      "cell_type": "code",
      "metadata": {
        "id": "vE2QLG2pRF_7"
      },
      "source": [
        "#summary of the data\r\n",
        "gt_df.describe()"
      ],
      "execution_count": null,
      "outputs": []
    },
    {
      "cell_type": "code",
      "metadata": {
        "id": "2DY1auKdRMjk"
      },
      "source": [
        "#checking null values\r\n",
        "gt_df.isnull().sum()"
      ],
      "execution_count": null,
      "outputs": []
    },
    {
      "cell_type": "code",
      "metadata": {
        "id": "Ej2A0nBgZP_8"
      },
      "source": [
        "missing_percentage = gt_df.isnull().sum()*100/len(gt_df)\r\n",
        "missing_percentage"
      ],
      "execution_count": null,
      "outputs": []
    },
    {
      "cell_type": "code",
      "metadata": {
        "id": "LfnGSdiUZZlt"
      },
      "source": [
        "plt.figure(figsize=(15,15))\r\n",
        "sns.heatmap(gt_df.isnull(), yticklabels=False, cbar=False, cmap='viridis')"
      ],
      "execution_count": null,
      "outputs": []
    },
    {
      "cell_type": "code",
      "metadata": {
        "id": "do2oXX97Zmau"
      },
      "source": [
        "gt_df.dropna(axis=1,inplace=True)"
      ],
      "execution_count": null,
      "outputs": []
    },
    {
      "cell_type": "code",
      "metadata": {
        "id": "iv8NLfiLZr2D"
      },
      "source": [
        "gt_df.shape"
      ],
      "execution_count": null,
      "outputs": []
    },
    {
      "cell_type": "code",
      "metadata": {
        "id": "pcZkcorNZueO"
      },
      "source": [
        "gt_df.corr()"
      ],
      "execution_count": null,
      "outputs": []
    },
    {
      "cell_type": "markdown",
      "metadata": {
        "id": "dVFFLuY9R_ev"
      },
      "source": [
        "##STEP 4 - Visualizing the Dataset"
      ]
    },
    {
      "cell_type": "code",
      "metadata": {
        "id": "LtY-Yhd4R8nr"
      },
      "source": [
        "plt.rcParams['figure.figsize']=15,11\r\n",
        "sns.countplot(x=gt_df['iyear'])\r\n",
        "plt.ylabel('Number of Attacks')\r\n",
        "plt.xticks(rotation=90)\r\n",
        "plt.xlabel('Attack Year')\r\n",
        "plt.title('Increase in Terror',size=25,fontweight='bold')"
      ],
      "execution_count": null,
      "outputs": []
    },
    {
      "cell_type": "code",
      "metadata": {
        "id": "Svt7NUH9Hu8W"
      },
      "source": [
        "plt.rcParams['figure.figsize']=15,11\r\n",
        "sns.countplot(x=gt_df['iyear'], hue='success', data=gt_df)\r\n",
        "plt.ylabel('Number of Attacks')\r\n",
        "plt.xticks(rotation=90)\r\n",
        "plt.xlabel('Attack Year')\r\n",
        "plt.title('Increase in Terror',size=25,fontweight='bold')"
      ],
      "execution_count": null,
      "outputs": []
    },
    {
      "cell_type": "code",
      "metadata": {
        "id": "d8YnfWieH0hp"
      },
      "source": [
        "plt.rcParams['figure.figsize']=15,11\r\n",
        "sns.countplot(x=gt_df['region_txt'], hue='success', data=gt_df)\r\n",
        "plt.ylabel('Number of Attacks')\r\n",
        "plt.xticks(rotation=90)\r\n",
        "plt.xlabel('Attack Region')"
      ],
      "execution_count": null,
      "outputs": []
    },
    {
      "cell_type": "code",
      "metadata": {
        "id": "zDMZL9cGH3kJ"
      },
      "source": [
        "plt.rcParams['figure.figsize']=15,11\r\n",
        "sns.barplot(x=gt_df['country_txt'].value_counts()[:20].index,y=gt_df['country_txt'].value_counts()[:20].values)\r\n",
        "plt.ylabel('Number of Attacks')\r\n",
        "plt.xticks(rotation=90)\r\n",
        "plt.xlabel('Attack Region')\r\n",
        "plt.title('Country wise Attack',size=25,fontweight='bold')"
      ],
      "execution_count": null,
      "outputs": []
    },
    {
      "cell_type": "code",
      "metadata": {
        "id": "zlSRmY_bH8so"
      },
      "source": [
        "plt.rcParams['figure.figsize']=15,11\r\n",
        "sns.barplot(x=gt_df['attacktype1_txt'].value_counts()[:20].index,y=gt_df['attacktype1_txt'].value_counts()[:20].values)\r\n",
        "plt.ylabel('Total Attack', fontsize=20)\r\n",
        "plt.xticks(rotation=90)\r\n",
        "plt.xlabel('Attack Type',fontsize=20)\r\n",
        "plt.title('Attack types',size=25,fontweight='bold')"
      ],
      "execution_count": null,
      "outputs": []
    },
    {
      "cell_type": "markdown",
      "metadata": {
        "id": "0gOZ9o7SaL5G"
      },
      "source": [
        "\r\n",
        "##***Conclusion***\r\n",
        "\r\n",
        "Iraq ranked first on the global terrorism for their terrorist activity followed by Pakistan, Afghanistan, India and so on.\r\n",
        "\r\n",
        "Most targeted areas are private citizens and property, military, police and so on.\r\n",
        "\r\n",
        "Global terror attack deaths rose sharply starting year 2011.\r\n",
        "\r\n",
        "In conclusion with the ranking, Iraq suffered from most terrorist attacks in 2014, with the most deaths in that year.\r\n"
      ]
    }
  ]
}