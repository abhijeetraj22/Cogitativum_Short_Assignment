{
  "nbformat": 4,
  "nbformat_minor": 0,
  "metadata": {
    "colab": {
      "name": "TSF_Task-1.ipynb",
      "provenance": [],
      "toc_visible": true,
      "authorship_tag": "ABX9TyOkMH1J7pqQ1rone5xjh1cD",
      "include_colab_link": true
    },
    "kernelspec": {
      "name": "python3",
      "display_name": "Python 3"
    }
  },
  "cells": [
    {
      "cell_type": "markdown",
      "metadata": {
        "id": "view-in-github",
        "colab_type": "text"
      },
      "source": [
        "<a href=\"https://colab.research.google.com/github/abhijeetraj22/TSF-GRIP_Tasks/blob/main/TSF_Task_1.ipynb\" target=\"_parent\"><img src=\"https://colab.research.google.com/assets/colab-badge.svg\" alt=\"Open In Colab\"/></a>"
      ]
    },
    {
      "cell_type": "markdown",
      "metadata": {
        "id": "HFOBOlZV-vr_"
      },
      "source": [
        "#GRIP The Sparks Foundation(TSF)\r\n",
        "\r\n",
        "##Task-1 Prediction using Supervised ML\r\n",
        "\r\n",
        "#####In this task, I tried to predict the percentage of marks that a student is expected to score based upon the number of hours they studied. \r\n",
        "#####This is a simple linear regression task as it involves just two variables.\r\n",
        "\r\n",
        "##Steps -\r\n",
        " - Step 1 - Importing the Library & Dataset\r\n",
        " - Step 2 - Visualizing the dataset\r\n",
        " - Step 3 - Data Preprocessing\r\n",
        " - Step 4 - Training the algorithm\r\n",
        " - Step 5 - Visualizing the model\r\n",
        " - Step 6 - Making Predictions\r\n",
        " - Step 7 - Evaluating the model\r\n",
        "\r\n",
        "####Created by - Abhijeet Raj Modanwal\r\n"
      ]
    },
    {
      "cell_type": "markdown",
      "metadata": {
        "id": "s3a3Nf-JPhr1"
      },
      "source": [
        "##STEP 1 - Importing the Library & Dataset\r\n",
        "\r\n",
        "In this step, we will import the Library & Dataset through the link with the help of pandas library and then we will observe the data\r\n"
      ]
    },
    {
      "cell_type": "code",
      "metadata": {
        "id": "aHOq3f1--l5k"
      },
      "source": [
        "# Importing all libraries required in this notebook\r\n",
        "import pandas as pd\r\n",
        "import numpy as np  \r\n",
        "import matplotlib.pyplot as plt  \r\n",
        "%matplotlib inline"
      ],
      "execution_count": null,
      "outputs": []
    },
    {
      "cell_type": "code",
      "metadata": {
        "id": "_fODp4G_Rk4C"
      },
      "source": [
        "# Reading data from remote link\r\n",
        "url = \"https://raw.githubusercontent.com/AdiPersonalWorks/Random/master/student_scores%20-%20student_scores.csv\"\r\n",
        "st_df = pd.read_csv(url)"
      ],
      "execution_count": null,
      "outputs": []
    },
    {
      "cell_type": "code",
      "metadata": {
        "id": "rR-bolm_R09T"
      },
      "source": [
        "#Now let's observe the dataset\r\n",
        "st_df.head(10)"
      ],
      "execution_count": null,
      "outputs": []
    },
    {
      "cell_type": "code",
      "metadata": {
        "id": "4hkEuvd-SJiY"
      },
      "source": [
        "#To find the number of column\r\n",
        "st_df.shape"
      ],
      "execution_count": null,
      "outputs": []
    },
    {
      "cell_type": "code",
      "metadata": {
        "id": "vshWAHgwSZVC"
      },
      "source": [
        "#To find the information about our dataset\r\n",
        "st_df.info()"
      ],
      "execution_count": null,
      "outputs": []
    },
    {
      "cell_type": "code",
      "metadata": {
        "id": "6ZLeFhWkV9VH"
      },
      "source": [
        "st_df.describe()"
      ],
      "execution_count": null,
      "outputs": []
    },
    {
      "cell_type": "code",
      "metadata": {
        "id": "lvb40dD7WHwJ"
      },
      "source": [
        "#Now we will check, whether the dataset contains any null or missing value\r\n",
        "st_df.isnull().sum()"
      ],
      "execution_count": null,
      "outputs": []
    },
    {
      "cell_type": "markdown",
      "metadata": {
        "id": "x7cCanjbbEnS"
      },
      "source": [
        "As we can see that,we don't have any null values in our dataset so, we can now visualize our Data."
      ]
    },
    {
      "cell_type": "markdown",
      "metadata": {
        "id": "E63St6EwbeCV"
      },
      "source": [
        "###STEP 2 - Visualizing the dataset\r\n",
        "#####Let's plot our data points on 2-D graph to eyeball our dataset and see if we can manually find any relationship between the data. \r\n",
        "#####We can create the plot with the following script:"
      ]
    },
    {
      "cell_type": "code",
      "metadata": {
        "id": "Thcyi9XMbcHn"
      },
      "source": [
        ""
      ],
      "execution_count": null,
      "outputs": []
    }
  ]
}