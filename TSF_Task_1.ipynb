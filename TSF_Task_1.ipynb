{
  "nbformat": 4,
  "nbformat_minor": 0,
  "metadata": {
    "colab": {
      "name": "TSF_Task-1.ipynb",
      "provenance": [],
      "authorship_tag": "ABX9TyN8IoXSoxRS1iaYkq/HkPMt",
      "include_colab_link": true
    },
    "kernelspec": {
      "name": "python3",
      "display_name": "Python 3"
    }
  },
  "cells": [
    {
      "cell_type": "markdown",
      "metadata": {
        "id": "view-in-github",
        "colab_type": "text"
      },
      "source": [
        "<a href=\"https://colab.research.google.com/github/abhijeetraj22/TSF-GRIP_Tasks/blob/main/TSF_Task_1.ipynb\" target=\"_parent\"><img src=\"https://colab.research.google.com/assets/colab-badge.svg\" alt=\"Open In Colab\"/></a>"
      ]
    },
    {
      "cell_type": "markdown",
      "metadata": {
        "id": "HFOBOlZV-vr_"
      },
      "source": [
        "#GRIP The Sparks Foundation(TSF)\r\n",
        "\r\n",
        "##Task-1 Prediction using Supervised ML\r\n",
        "\r\n",
        "#####In this task, I tried to predict the percentage of marks that a student is expected to score based upon the number of hours they studied. \r\n",
        "#####This is a simple linear regression task as it involves just two variables.\r\n",
        "\r\n",
        "##Steps -\r\n",
        " - Step 1 - Importing the Library & Dataset\r\n",
        " - Step 2 - Visualizing the dataset\r\n",
        " - Step 3 - Data Preprocessing\r\n",
        " - Step 4 - Training the algorithm\r\n",
        " - Step 5 - Visualizing the model\r\n",
        " - Step 6 - Making Predictions\r\n",
        " - Step 7 - Evaluating the model\r\n",
        "\r\n",
        "####Created by - Abhijeet Raj Modanwal\r\n"
      ]
    },
    {
      "cell_type": "markdown",
      "metadata": {
        "id": "s3a3Nf-JPhr1"
      },
      "source": [
        "##STEP 1 - Importing the Library & Dataset\r\n",
        "\r\n",
        "In this step, we will import the Library & Dataset through the link with the help of pandas library and then we will observe the data\r\n"
      ]
    },
    {
      "cell_type": "code",
      "metadata": {
        "id": "aHOq3f1--l5k"
      },
      "source": [
        "# Importing all libraries required in this notebook\r\n",
        "import pandas as pd\r\n",
        "import numpy as np  \r\n",
        "import matplotlib.pyplot as plt  \r\n",
        "%matplotlib inline"
      ],
      "execution_count": null,
      "outputs": []
    },
    {
      "cell_type": "code",
      "metadata": {
        "id": "_fODp4G_Rk4C"
      },
      "source": [
        "# Reading data from remote link\r\n",
        "url = \"https://raw.githubusercontent.com/AdiPersonalWorks/Random/master/student_scores%20-%20student_scores.csv\"\r\n",
        "st_df = pd.read_csv(url)"
      ],
      "execution_count": null,
      "outputs": []
    },
    {
      "cell_type": "code",
      "metadata": {
        "id": "rR-bolm_R09T"
      },
      "source": [
        "#Now let's observe the dataset\r\n",
        "st_df.head(10)"
      ],
      "execution_count": null,
      "outputs": []
    },
    {
      "cell_type": "code",
      "metadata": {
        "id": "4hkEuvd-SJiY"
      },
      "source": [
        "#To find the number of column\r\n",
        "st_df.shape"
      ],
      "execution_count": null,
      "outputs": []
    },
    {
      "cell_type": "code",
      "metadata": {
        "id": "vshWAHgwSZVC"
      },
      "source": [
        "#To find the information about our dataset\r\n",
        "st_df.info()"
      ],
      "execution_count": null,
      "outputs": []
    },
    {
      "cell_type": "code",
      "metadata": {
        "id": "6ZLeFhWkV9VH"
      },
      "source": [
        "st_df.describe()"
      ],
      "execution_count": null,
      "outputs": []
    },
    {
      "cell_type": "code",
      "metadata": {
        "id": "lvb40dD7WHwJ"
      },
      "source": [
        "#Now we will check, whether the dataset contains any null or missing value\r\n",
        "st_df.isnull().sum()"
      ],
      "execution_count": null,
      "outputs": []
    },
    {
      "cell_type": "markdown",
      "metadata": {
        "id": "x7cCanjbbEnS"
      },
      "source": [
        "As we can see that,we don't have any null values in our dataset so, we can now visualize our Data."
      ]
    },
    {
      "cell_type": "markdown",
      "metadata": {
        "id": "E63St6EwbeCV"
      },
      "source": [
        "##STEP 2 - Visualizing the dataset\r\n",
        "Let's plot our data points on 2-D graph to eyeball our dataset and see if we can manually find any relationship between the data. We can create the plot with the following script:"
      ]
    },
    {
      "cell_type": "code",
      "metadata": {
        "id": "Thcyi9XMbcHn"
      },
      "source": [
        "# Plotting the distribution of scores\r\n",
        "st_df.plot(x='Hours', y='Scores', style='o')  \r\n",
        "plt.title('Hours vs Percentage')  \r\n",
        "plt.xlabel('Hours Studied')  \r\n",
        "plt.ylabel('Percentage Score')  \r\n",
        "plt.show()"
      ],
      "execution_count": null,
      "outputs": []
    },
    {
      "cell_type": "code",
      "metadata": {
        "id": "au9TztiXzaAm"
      },
      "source": [
        "#determine the correlation between the variable\r\n",
        "df.corr()"
      ],
      "execution_count": null,
      "outputs": []
    },
    {
      "cell_type": "markdown",
      "metadata": {
        "id": "gtzE8rMIjiHv"
      },
      "source": [
        "**From the graph above grape, we can clearly see that there is a positive linear relation between the number of hours studied and percentage of score. We can say that the increase of Hours studied(x), will also is an increase in the scores obtained(y).**\r\n",
        "\r\n",
        "**So, we can use the linear regression supervised machine model on it to predict further values.**"
      ]
    },
    {
      "cell_type": "markdown",
      "metadata": {
        "id": "599OwnzR0A6v"
      },
      "source": [
        "##STEP 3 - Data Preprocessing\r\n",
        "\r\n",
        "In this step we will devide the data into \"attributes\" (inputs) and \"labels\" (outputs). \r\n",
        "\r\n",
        "After that, we will split the whole dataset into two parts - testing data and training data."
      ]
    },
    {
      "cell_type": "code",
      "metadata": {
        "id": "IS6GphW2z-qM"
      },
      "source": [
        "X = st_df.iloc[:, :-1].values  \r\n",
        "y = st_df.iloc[:, 1].values  "
      ],
      "execution_count": null,
      "outputs": []
    },
    {
      "cell_type": "markdown",
      "metadata": {
        "id": "gXUnfspU1Xx4"
      },
      "source": [
        "Now that we have our attributes and labels, the next step is to split this data into training and test sets. We'll do this by using Scikit-Learn's built-in train_test_split() method:"
      ]
    },
    {
      "cell_type": "code",
      "metadata": {
        "id": "50dIZXo41eiq"
      },
      "source": [
        "from sklearn.model_selection import train_test_split  \r\n",
        "X_train, X_test, y_train, y_test = train_test_split(X, y, \r\n",
        "                            test_size=0.2, random_state=0) "
      ],
      "execution_count": null,
      "outputs": []
    },
    {
      "cell_type": "markdown",
      "metadata": {
        "id": "OANt46El1LQy"
      },
      "source": [
        "###STEP 4 - Training the algorithm\r\n",
        "We have split our data into training and testing sets, and now is finally the time to train our algorithm."
      ]
    },
    {
      "cell_type": "code",
      "metadata": {
        "id": "qddCuaS84fpK",
        "colab": {
          "base_uri": "https://localhost:8080/",
          "height": 34
        },
        "outputId": "befbd977-772c-4bd1-bb48-ee5dd6bae73c"
      },
      "source": [
        "from sklearn.linear_model import LinearRegression  \n",
        "regressor = LinearRegression()  \n",
        "regressor.fit(X_train, y_train) \n",
        "\n",
        "print(\"Training complete.\")"
      ],
      "execution_count": null,
      "outputs": [
        {
          "output_type": "stream",
          "text": [
            "Training complete.\n"
          ],
          "name": "stdout"
        }
      ]
    },
    {
      "cell_type": "markdown",
      "metadata": {
        "id": "oOyvU5W_22lk"
      },
      "source": [
        "###STEP 5 - Visualizing the model\r\n",
        "After training the model, now its time to visualize it."
      ]
    },
    {
      "cell_type": "code",
      "metadata": {
        "id": "J61NX2_2-px7",
        "colab": {
          "base_uri": "https://localhost:8080/",
          "height": 265
        },
        "outputId": "d20ec1fd-3e2d-4eae-84a2-a0df57d31009"
      },
      "source": [
        "line = model.coef_* x + model.intercept_\n",
        "\n",
        "# Plotting for the training data\n",
        "\n",
        "plt.rcParams[\"figure.figsize\"] = [16,9]\n",
        "plt.scatter(x_train, y_train, color=\"red\")\n",
        "plt.plot(x, line, color=\"green\");\n",
        "plt.xlabel(\"Hours Studied\")\n",
        "plt.ylabel(\"Percentage Score\")\n",
        "plt.grid()\n",
        "plt.show()"
      ],
      "execution_count": null,
      "outputs": [
        {
          "output_type": "display_data",
          "data": {
            "image/png": "[encoded data removed]",
            "text/plain": [
              "<matplotlib.figure.Figure at 0x7f4637579d30>"
            ]
          },
          "metadata": {
            "tags": []
          }
        }
      ]
    },
    {
      "cell_type": "code",
      "metadata": {
        "id": "Bs5k9DRl3awj"
      },
      "source": [
        "# Plotting for testing data\r\n",
        "plt.rcParams[\"figure.figsize\"] = [16,9]\r\n",
        "plt.scatter(x_test, y_test, color=\"red\")\r\n",
        "plt.plot(x, line, color=\"green\");\r\n",
        "plt.xlabel(\"Hours Studied\")\r\n",
        "plt.ylabel(\"Percentage Score\")\r\n",
        "plt.grid()\r\n",
        "plt.show()\r\n"
      ],
      "execution_count": null,
      "outputs": []
    },
    {
      "cell_type": "markdown",
      "metadata": {
        "id": "JCQn-g4m5OK2"
      },
      "source": [
        "### STEP 6 - Making Predictions\n",
        "Now that we have trained our algorithm, it's time to make some predictions."
      ]
    },
    {
      "cell_type": "code",
      "metadata": {
        "id": "Tt-Fmzu55EGM",
        "colab": {
          "base_uri": "https://localhost:8080/",
          "height": 102
        },
        "outputId": "46f1acf8-91ac-4984-cfbe-e614aa9ea849"
      },
      "source": [
        "print(X_test) # Testing data - In Hours\n",
        "y_pred = regressor.predict(X_test) # Predicting the scores"
      ],
      "execution_count": null,
      "outputs": [
        {
          "output_type": "stream",
          "text": [
            "[[1.5]\n",
            " [3.2]\n",
            " [7.4]\n",
            " [2.5]\n",
            " [5.9]]\n"
          ],
          "name": "stdout"
        }
      ]
    },
    {
      "cell_type": "code",
      "metadata": {
        "id": "6bmZUMZh5QLb",
        "colab": {
          "base_uri": "https://localhost:8080/",
          "height": 204
        },
        "outputId": "8ea11a9e-c1b7-4fab-ab62-4dcbd2c8607b"
      },
      "source": [
        "# Comparing Actual vs Predicted\n",
        "df = pd.DataFrame({'Actual': y_test, 'Predicted': y_pred})  \n",
        "df "
      ],
      "execution_count": null,
      "outputs": [
        {
          "output_type": "execute_result",
          "data": {
            "text/html": [
              "<div>\n",
              "<style scoped>\n",
              "    .dataframe tbody tr th:only-of-type {\n",
              "        vertical-align: middle;\n",
              "    }\n",
              "\n",
              "    .dataframe tbody tr th {\n",
              "        vertical-align: top;\n",
              "    }\n",
              "\n",
              "    .dataframe thead th {\n",
              "        text-align: right;\n",
              "    }\n",
              "</style>\n",
              "<table border=\"1\" class=\"dataframe\">\n",
              "  <thead>\n",
              "    <tr style=\"text-align: right;\">\n",
              "      <th></th>\n",
              "      <th>Actual</th>\n",
              "      <th>Predicted</th>\n",
              "    </tr>\n",
              "  </thead>\n",
              "  <tbody>\n",
              "    <tr>\n",
              "      <th>0</th>\n",
              "      <td>20</td>\n",
              "      <td>16.884145</td>\n",
              "    </tr>\n",
              "    <tr>\n",
              "      <th>1</th>\n",
              "      <td>27</td>\n",
              "      <td>33.732261</td>\n",
              "    </tr>\n",
              "    <tr>\n",
              "      <th>2</th>\n",
              "      <td>69</td>\n",
              "      <td>75.357018</td>\n",
              "    </tr>\n",
              "    <tr>\n",
              "      <th>3</th>\n",
              "      <td>30</td>\n",
              "      <td>26.794801</td>\n",
              "    </tr>\n",
              "    <tr>\n",
              "      <th>4</th>\n",
              "      <td>62</td>\n",
              "      <td>60.491033</td>\n",
              "    </tr>\n",
              "  </tbody>\n",
              "</table>\n",
              "</div>"
            ],
            "text/plain": [
              "   Actual  Predicted\n",
              "0      20  16.884145\n",
              "1      27  33.732261\n",
              "2      69  75.357018\n",
              "3      30  26.794801\n",
              "4      62  60.491033"
            ]
          },
          "metadata": {
            "tags": []
          },
          "execution_count": 9
        }
      ]
    },
    {
      "cell_type": "code",
      "metadata": {
        "id": "KAFO8zbx-AH1",
        "colab": {
          "base_uri": "https://localhost:8080/",
          "height": 51
        },
        "outputId": "fcb3830f-3cda-4dcb-f122-84b71f101fae"
      },
      "source": [
        "# You can also test with your own data\n",
        "hours = 9.25\n",
        "own_pred = regressor.predict(hours)\n",
        "print(\"The predicted score, if a person studies for\",hours,\"hours is\",own_pred[0])"
      ],
      "execution_count": null,
      "outputs": [
        {
          "output_type": "stream",
          "text": [
            "No of Hours = 9.25\n",
            "Predicted Score = 93.69173248737539\n"
          ],
          "name": "stdout"
        }
      ]
    },
    {
      "cell_type": "markdown",
      "metadata": {
        "id": "rENc1Qb-4QLr"
      },
      "source": [
        "Hence, it can be concluded, that the predicted score if a person studies for 9.25 hours is 93.69173248737538."
      ]
    },
    {
      "cell_type": "markdown",
      "metadata": {
        "id": "0AAsPVA_6KmK"
      },
      "source": [
        "### STEP 7 - Evaluating the model\n",
        "\n",
        "The final step is to evaluate the performance of algorithm. This step is particularly important to compare how well different algorithms perform on a particular dataset. For simplicity here, we have chosen the mean square error. There are many such metrics."
      ]
    },
    {
      "cell_type": "code",
      "metadata": {
        "id": "r5UOrRH-5VCQ",
        "colab": {
          "base_uri": "https://localhost:8080/",
          "height": 34
        },
        "outputId": "7b9ddcf1-2848-408f-d81f-7a60652c381e"
      },
      "source": [
        "from sklearn import metrics  \n",
        "print('Mean Absolute Error:', \n",
        "      metrics.mean_absolute_error(y_test, y_pred)) "
      ],
      "execution_count": null,
      "outputs": [
        {
          "output_type": "stream",
          "text": [
            "Mean Absolute Error: 4.183859899002982\n"
          ],
          "name": "stdout"
        }
      ]
    }
  ]
}