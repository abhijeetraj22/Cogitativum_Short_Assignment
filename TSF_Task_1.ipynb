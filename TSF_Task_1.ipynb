{
  "nbformat": 4,
  "nbformat_minor": 0,
  "metadata": {
    "colab": {
      "name": "TSF_Task-1.ipynb",
      "provenance": [],
      "authorship_tag": "ABX9TyNzN3qvdyqQkEGoL/C406t9",
      "include_colab_link": true
    },
    "kernelspec": {
      "name": "python3",
      "display_name": "Python 3"
    }
  },
  "cells": [
    {
      "cell_type": "markdown",
      "metadata": {
        "id": "view-in-github",
        "colab_type": "text"
      },
      "source": [
        "<a href=\"https://colab.research.google.com/github/abhijeetraj22/TSF-GRIP_Tasks/blob/main/TSF_Task_1.ipynb\" target=\"_parent\"><img src=\"https://colab.research.google.com/assets/colab-badge.svg\" alt=\"Open In Colab\"/></a>"
      ]
    },
    {
      "cell_type": "markdown",
      "metadata": {
        "id": "HFOBOlZV-vr_"
      },
      "source": [
        "#GRIP The Sparks Foundation(TSF)\r\n",
        "\r\n",
        "##Task-1 Prediction using Supervised ML\r\n",
        "\r\n",
        "#####In this task, I tried to predict the percentage of marks that a student is expected to score based upon the number of hours they studied. \r\n",
        "#####This is a simple linear regression task as it involves just two variables.\r\n",
        "\r\n",
        "##Steps -\r\n",
        " - Step 1 - Importing the Library & Dataset\r\n",
        " - Step 2 - Visualizing the dataset\r\n",
        " - Step 3 - Data Preprocessing\r\n",
        " - Step 4 - Training the algorithm\r\n",
        " - Step 5 - Visualizing the model\r\n",
        " - Step 6 - Making Predictions\r\n",
        " - Step 7 - Evaluating the model\r\n",
        "\r\n",
        "##Author - Abhijeet Raj Modanwal\r\n"
      ]
    },
    {
      "cell_type": "code",
      "metadata": {
        "id": "aHOq3f1--l5k"
      },
      "source": [
        ""
      ],
      "execution_count": null,
      "outputs": []
    }
  ]
}