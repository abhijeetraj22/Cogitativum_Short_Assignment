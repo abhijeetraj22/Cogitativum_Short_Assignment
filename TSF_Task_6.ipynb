{
  "nbformat": 4,
  "nbformat_minor": 0,
  "metadata": {
    "colab": {
      "name": "TSF_Task-6.ipynb",
      "provenance": [],
      "mount_file_id": "1gOHKXaTCMW7DCG6mDLtGXO0UATa1hUcw",
      "authorship_tag": "ABX9TyMGBo9hufjNZxOIk606CRux",
      "include_colab_link": true
    },
    "kernelspec": {
      "name": "python3",
      "display_name": "Python 3"
    }
  },
  "cells": [
    {
      "cell_type": "markdown",
      "metadata": {
        "id": "view-in-github",
        "colab_type": "text"
      },
      "source": [
        "<a href=\"https://colab.research.google.com/github/abhijeetraj22/TSF-GRIP_Tasks/blob/main/TSF_Task_6.ipynb\" target=\"_parent\"><img src=\"https://colab.research.google.com/assets/colab-badge.svg\" alt=\"Open In Colab\"/></a>"
      ]
    },
    {
      "cell_type": "markdown",
      "metadata": {
        "id": "9zBe17GPLJ7W"
      },
      "source": [
        "#GRIP The Sparks Foundation(TSF)\r\n",
        "\r\n",
        "##Task - 6 Prediction using Decision Tree Algorithm\r\n",
        "\r\n",
        "#####In this task,\r\n",
        "- Create the Decision Tree classifier and visualize it graphically.\r\n",
        "- The purpose is if we feed any new data to this classifier, it would be able to predict the right class accordingly.\r\n",
        "\r\n",
        "\r\n",
        "##Steps -\r\n",
        " - Step 1 - Importing the Library\r\n",
        " - Step 2 - Importing the Dataset\r\n",
        " - Step 3 - Data Exploration\r\n",
        " - Step 4 - Define the Decision Tree Algorithm\r\n",
        " - Step 5 - Visualizing the Decision Tree\r\n",
        "\r\n",
        "####Created by - Abhijeet Raj Modanwal\r\n"
      ]
    },
    {
      "cell_type": "markdown",
      "metadata": {
        "id": "VzBLdaohPEhS"
      },
      "source": [
        "##STEP 1 - Importing the Library\r\n",
        "\r\n",
        "In this step, we will import the Libraries.\r\n"
      ]
    },
    {
      "cell_type": "code",
      "metadata": {
        "id": "WqJezwtIKqQN"
      },
      "source": [
        "# Importing libraries in Python\r\n",
        "import sklearn.datasets as datasets\r\n",
        "import pandas as pd"
      ],
      "execution_count": null,
      "outputs": []
    },
    {
      "cell_type": "markdown",
      "metadata": {
        "id": "uRwSfsPuPmXN"
      },
      "source": [
        "\r\n",
        "##STEP 2 - Importing the Dataset"
      ]
    },
    {
      "cell_type": "code",
      "metadata": {
        "id": "yrL-N8oEP7Eo"
      },
      "source": [
        "# Loading the iris dataset\r\n",
        "iris=datasets.load_iris()\r\n",
        "\r\n",
        "# Forming the iris dataframe\r\n",
        "iris_df=pd.DataFrame(iris.data, columns=iris.feature_names)"
      ],
      "execution_count": null,
      "outputs": []
    },
    {
      "cell_type": "code",
      "metadata": {
        "id": "F7DeVDcHQeFr"
      },
      "source": [
        "#first five rows of dataset\r\n",
        "iris_df.head()"
      ],
      "execution_count": null,
      "outputs": []
    },
    {
      "cell_type": "code",
      "metadata": {
        "id": "BUDKWA2XQmtD"
      },
      "source": [
        "#last five rows of dataset\r\n",
        "iris_df.tail()"
      ],
      "execution_count": null,
      "outputs": []
    },
    {
      "cell_type": "code",
      "metadata": {
        "id": "jFQ00xe7Cold"
      },
      "source": [
        "y=iris.target\r\n",
        "y"
      ],
      "execution_count": null,
      "outputs": []
    },
    {
      "cell_type": "markdown",
      "metadata": {
        "id": "_PtvjdkRbZsU"
      },
      "source": [
        "##STEP 3 - Data Exploration"
      ]
    },
    {
      "cell_type": "code",
      "metadata": {
        "id": "ztzzUcrNQuQe"
      },
      "source": [
        "#shape of dataset\r\n",
        "iris_df.shape"
      ],
      "execution_count": null,
      "outputs": []
    },
    {
      "cell_type": "code",
      "metadata": {
        "id": "MxjtU_YiQzY7"
      },
      "source": [
        "#columns names of the dataset \r\n",
        "iris_df.columns"
      ],
      "execution_count": null,
      "outputs": []
    },
    {
      "cell_type": "code",
      "metadata": {
        "id": "y5_HHIP9Q_BQ"
      },
      "source": [
        "#info of the dataset \r\n",
        "iris_df.info()"
      ],
      "execution_count": null,
      "outputs": []
    },
    {
      "cell_type": "code",
      "metadata": {
        "id": "vE2QLG2pRF_7"
      },
      "source": [
        "#summary of the data\r\n",
        "iris_df.describe()"
      ],
      "execution_count": null,
      "outputs": []
    },
    {
      "cell_type": "markdown",
      "metadata": {
        "id": "WwKm0cogDZLn"
      },
      "source": [
        "##STEP 4 - Define the Decision Tree Algorithm"
      ]
    },
    {
      "cell_type": "code",
      "metadata": {
        "id": "98wNt6hKDvSI"
      },
      "source": [
        "# Defining the decision tree algorithm\r\n",
        "from sklearn.tree import DecisionTreeClassifier\r\n",
        "dtree=DecisionTreeClassifier()\r\n",
        "dtree.fit(df,y)\r\n",
        "\r\n",
        "print('Decision Tree Classifer Created')"
      ],
      "execution_count": null,
      "outputs": []
    },
    {
      "cell_type": "markdown",
      "metadata": {
        "id": "dVFFLuY9R_ev"
      },
      "source": [
        "##STEP 5 - Visualizing the Decision Tree"
      ]
    },
    {
      "cell_type": "code",
      "metadata": {
        "id": "LtY-Yhd4R8nr"
      },
      "source": [
        "# Install required libraries\r\n",
        "!pip install pydotplus\r\n",
        "!apt-get install graphviz -y"
      ],
      "execution_count": null,
      "outputs": []
    },
    {
      "cell_type": "code",
      "metadata": {
        "id": "Svt7NUH9Hu8W"
      },
      "source": [
        "# Import necessary libraries for graph viz\r\n",
        "from sklearn.externals.six import StringIO  \r\n",
        "from IPython.display import Image  \r\n",
        "from sklearn.tree import export_graphviz\r\n",
        "import pydotplus\r\n",
        "\r\n",
        "# Visualize the graph\r\n",
        "dot_data = StringIO()\r\n",
        "export_graphviz(dtree, out_file=dot_data, feature_names=iris.feature_names,  \r\n",
        "                filled=True, rounded=True,\r\n",
        "                special_characters=True)\r\n",
        "graph = pydotplus.graph_from_dot_data(dot_data.getvalue())  \r\n",
        "Image(graph.create_png())"
      ],
      "execution_count": null,
      "outputs": []
    }
  ]
}